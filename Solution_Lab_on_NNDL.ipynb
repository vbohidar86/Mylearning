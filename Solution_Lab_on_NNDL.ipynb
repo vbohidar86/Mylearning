{
 "cells": [
  {
   "cell_type": "markdown",
   "metadata": {
    "id": "YeoiMbH7djEv"
   },
   "source": [
    "# Stock prices dataset\n",
    "The data is of stock exchange's stock listings for each trading day of 2010 to 2016.\n",
    "\n",
    "## Description\n",
    "A brief description of columns.\n",
    "- open: The opening market price of the equity symbol on the date\n",
    "- high: The highest market price of the equity symbol on the date\n",
    "- low: The lowest recorded market price of the equity symbol on the date\n",
    "- close: The closing recorded price of the equity symbol on the date\n",
    "- symbol: Symbol of the listed company\n",
    "- volume: Total traded volume of the equity symbol on the date\n",
    "- date: Date of record"
   ]
  },
  {
   "cell_type": "markdown",
   "metadata": {
    "id": "RSoYY2nII_UW"
   },
   "source": [
    "In this assignment, we will work on the stock prices dataset named \"prices.csv\". Task is to create a Neural Network to classify closing price for a stock based on some parameters."
   ]
  },
  {
   "cell_type": "code",
   "execution_count": 1,
   "metadata": {
    "id": "PGqq9f8VdLba"
   },
   "outputs": [],
   "source": [
    "# Initialize the random number generator\n",
    "import random\n",
    "random.seed(0)\n",
    "\n",
    "# Ignore the warnings\n",
    "import warnings\n",
    "warnings.filterwarnings(\"ignore\")"
   ]
  },
  {
   "cell_type": "markdown",
   "metadata": {
    "id": "_88voqAH-O6J"
   },
   "source": [
    "## Question 1"
   ]
  },
  {
   "cell_type": "markdown",
   "metadata": {
    "id": "dRHCeJqP-evf"
   },
   "source": [
    "### Load the data\n",
    "- load the csv file and read it using pandas\n",
    "- file name is prices.csv"
   ]
  },
  {
   "cell_type": "code",
   "execution_count": 2,
   "metadata": {
    "id": "5qSyC54HQ9Cu"
   },
   "outputs": [],
   "source": [
    "#Enable graph plotting in Jupyter\n",
    "%matplotlib inline\n",
    "\n",
    "# Numerical libraries\n",
    "import numpy as np  \n",
    "\n",
    "# to handle data in form of rows and columns \n",
    "import pandas as pd    \n",
    "\n",
    "import seaborn as sns\n",
    "sns.set(color_codes=True)\n",
    "sns.set_style(\"whitegrid\")"
   ]
  },
  {
   "cell_type": "code",
   "execution_count": 10,
   "metadata": {
    "colab": {
     "base_uri": "https://localhost:8080/"
    },
    "id": "Kt_oDGuzRNGo",
    "outputId": "a46f8035-21ad-4283-dd26-58ac559ec960"
   },
   "outputs": [
    {
     "name": "stdout",
     "output_type": "stream",
     "text": [
      "Mounted at /content/drive/\n"
     ]
    }
   ],
   "source": [
    "# run this cell to to mount the google drive if you are using google colab\n",
    "\n",
    "from google.colab import drive\n",
    "drive.mount('/content/drive/')"
   ]
  },
  {
   "cell_type": "code",
   "execution_count": 45,
   "metadata": {
    "colab": {
     "base_uri": "https://localhost:8080/"
    },
    "id": "cKVH5v7r-RmC",
    "outputId": "b11babb1-29b7-4aa7-e593-68a3b50f677b"
   },
   "outputs": [
    {
     "data": {
      "text/plain": [
       "(851264, 7)"
      ]
     },
     "execution_count": 45,
     "metadata": {
      "tags": []
     },
     "output_type": "execute_result"
    }
   ],
   "source": [
    "# run this cell to upload file using GUI if you are using google colab\n",
    "project_path='/content/drive/MyDrive/ColabNotebooks/'\n",
    "data=pd.read_csv(project_path+'prices.csv',engine='python',sep=',')\n",
    "data.shape\n"
   ]
  },
  {
   "cell_type": "code",
   "execution_count": 27,
   "metadata": {
    "colab": {
     "base_uri": "https://localhost:8080/",
     "height": 345
    },
    "id": "1CWwCnx8Q9Cv",
    "outputId": "4dfe0b72-b5cf-4370-fef9-30f5357952dc"
   },
   "outputs": [
    {
     "data": {
      "text/html": [
       "<div>\n",
       "<style scoped>\n",
       "    .dataframe tbody tr th:only-of-type {\n",
       "        vertical-align: middle;\n",
       "    }\n",
       "\n",
       "    .dataframe tbody tr th {\n",
       "        vertical-align: top;\n",
       "    }\n",
       "\n",
       "    .dataframe thead th {\n",
       "        text-align: right;\n",
       "    }\n",
       "</style>\n",
       "<table border=\"1\" class=\"dataframe\">\n",
       "  <thead>\n",
       "    <tr style=\"text-align: right;\">\n",
       "      <th></th>\n",
       "      <th>date</th>\n",
       "      <th>symbol</th>\n",
       "      <th>open</th>\n",
       "      <th>close</th>\n",
       "      <th>low</th>\n",
       "      <th>high</th>\n",
       "      <th>volume</th>\n",
       "    </tr>\n",
       "  </thead>\n",
       "  <tbody>\n",
       "    <tr>\n",
       "      <th>0</th>\n",
       "      <td>2016-01-05 00:00:00</td>\n",
       "      <td>WLTW</td>\n",
       "      <td>123.430000</td>\n",
       "      <td>125.839996</td>\n",
       "      <td>122.309998</td>\n",
       "      <td>126.250000</td>\n",
       "      <td>2163600.0</td>\n",
       "    </tr>\n",
       "    <tr>\n",
       "      <th>1</th>\n",
       "      <td>2016-01-06 00:00:00</td>\n",
       "      <td>WLTW</td>\n",
       "      <td>125.239998</td>\n",
       "      <td>119.980003</td>\n",
       "      <td>119.940002</td>\n",
       "      <td>125.540001</td>\n",
       "      <td>2386400.0</td>\n",
       "    </tr>\n",
       "    <tr>\n",
       "      <th>2</th>\n",
       "      <td>2016-01-07 00:00:00</td>\n",
       "      <td>WLTW</td>\n",
       "      <td>116.379997</td>\n",
       "      <td>114.949997</td>\n",
       "      <td>114.930000</td>\n",
       "      <td>119.739998</td>\n",
       "      <td>2489500.0</td>\n",
       "    </tr>\n",
       "    <tr>\n",
       "      <th>3</th>\n",
       "      <td>2016-01-08 00:00:00</td>\n",
       "      <td>WLTW</td>\n",
       "      <td>115.480003</td>\n",
       "      <td>116.620003</td>\n",
       "      <td>113.500000</td>\n",
       "      <td>117.440002</td>\n",
       "      <td>2006300.0</td>\n",
       "    </tr>\n",
       "    <tr>\n",
       "      <th>4</th>\n",
       "      <td>2016-01-11 00:00:00</td>\n",
       "      <td>WLTW</td>\n",
       "      <td>117.010002</td>\n",
       "      <td>114.970001</td>\n",
       "      <td>114.089996</td>\n",
       "      <td>117.330002</td>\n",
       "      <td>1408600.0</td>\n",
       "    </tr>\n",
       "    <tr>\n",
       "      <th>5</th>\n",
       "      <td>2016-01-12 00:00:00</td>\n",
       "      <td>WLTW</td>\n",
       "      <td>115.510002</td>\n",
       "      <td>115.550003</td>\n",
       "      <td>114.500000</td>\n",
       "      <td>116.059998</td>\n",
       "      <td>1098000.0</td>\n",
       "    </tr>\n",
       "    <tr>\n",
       "      <th>6</th>\n",
       "      <td>2016-01-13 00:00:00</td>\n",
       "      <td>WLTW</td>\n",
       "      <td>116.459999</td>\n",
       "      <td>112.849998</td>\n",
       "      <td>112.589996</td>\n",
       "      <td>117.070000</td>\n",
       "      <td>949600.0</td>\n",
       "    </tr>\n",
       "    <tr>\n",
       "      <th>7</th>\n",
       "      <td>2016-01-14 00:00:00</td>\n",
       "      <td>WLTW</td>\n",
       "      <td>113.510002</td>\n",
       "      <td>114.379997</td>\n",
       "      <td>110.050003</td>\n",
       "      <td>115.029999</td>\n",
       "      <td>785300.0</td>\n",
       "    </tr>\n",
       "    <tr>\n",
       "      <th>8</th>\n",
       "      <td>2016-01-15 00:00:00</td>\n",
       "      <td>WLTW</td>\n",
       "      <td>113.330002</td>\n",
       "      <td>112.529999</td>\n",
       "      <td>111.919998</td>\n",
       "      <td>114.879997</td>\n",
       "      <td>1093700.0</td>\n",
       "    </tr>\n",
       "    <tr>\n",
       "      <th>9</th>\n",
       "      <td>2016-01-19 00:00:00</td>\n",
       "      <td>WLTW</td>\n",
       "      <td>113.660004</td>\n",
       "      <td>110.379997</td>\n",
       "      <td>109.870003</td>\n",
       "      <td>115.870003</td>\n",
       "      <td>1523500.0</td>\n",
       "    </tr>\n",
       "  </tbody>\n",
       "</table>\n",
       "</div>"
      ],
      "text/plain": [
       "                  date symbol        open  ...         low        high     volume\n",
       "0  2016-01-05 00:00:00   WLTW  123.430000  ...  122.309998  126.250000  2163600.0\n",
       "1  2016-01-06 00:00:00   WLTW  125.239998  ...  119.940002  125.540001  2386400.0\n",
       "2  2016-01-07 00:00:00   WLTW  116.379997  ...  114.930000  119.739998  2489500.0\n",
       "3  2016-01-08 00:00:00   WLTW  115.480003  ...  113.500000  117.440002  2006300.0\n",
       "4  2016-01-11 00:00:00   WLTW  117.010002  ...  114.089996  117.330002  1408600.0\n",
       "5  2016-01-12 00:00:00   WLTW  115.510002  ...  114.500000  116.059998  1098000.0\n",
       "6  2016-01-13 00:00:00   WLTW  116.459999  ...  112.589996  117.070000   949600.0\n",
       "7  2016-01-14 00:00:00   WLTW  113.510002  ...  110.050003  115.029999   785300.0\n",
       "8  2016-01-15 00:00:00   WLTW  113.330002  ...  111.919998  114.879997  1093700.0\n",
       "9  2016-01-19 00:00:00   WLTW  113.660004  ...  109.870003  115.870003  1523500.0\n",
       "\n",
       "[10 rows x 7 columns]"
      ]
     },
     "execution_count": 27,
     "metadata": {
      "tags": []
     },
     "output_type": "execute_result"
    }
   ],
   "source": [
    "data.head(10)"
   ]
  },
  {
   "cell_type": "code",
   "execution_count": 15,
   "metadata": {
    "colab": {
     "base_uri": "https://localhost:8080/",
     "height": 256
    },
    "id": "RVlr7xOeQ9Cv",
    "outputId": "c122fc12-4112-4bcd-eb2a-75d222f60f74"
   },
   "outputs": [
    {
     "data": {
      "text/html": [
       "<div>\n",
       "<style scoped>\n",
       "    .dataframe tbody tr th:only-of-type {\n",
       "        vertical-align: middle;\n",
       "    }\n",
       "\n",
       "    .dataframe tbody tr th {\n",
       "        vertical-align: top;\n",
       "    }\n",
       "\n",
       "    .dataframe thead th {\n",
       "        text-align: right;\n",
       "    }\n",
       "</style>\n",
       "<table border=\"1\" class=\"dataframe\">\n",
       "  <thead>\n",
       "    <tr style=\"text-align: right;\">\n",
       "      <th></th>\n",
       "      <th>Columns</th>\n",
       "      <th>Datatypes</th>\n",
       "    </tr>\n",
       "  </thead>\n",
       "  <tbody>\n",
       "    <tr>\n",
       "      <th>0</th>\n",
       "      <td>date</td>\n",
       "      <td>object</td>\n",
       "    </tr>\n",
       "    <tr>\n",
       "      <th>1</th>\n",
       "      <td>symbol</td>\n",
       "      <td>object</td>\n",
       "    </tr>\n",
       "    <tr>\n",
       "      <th>2</th>\n",
       "      <td>open</td>\n",
       "      <td>float64</td>\n",
       "    </tr>\n",
       "    <tr>\n",
       "      <th>3</th>\n",
       "      <td>close</td>\n",
       "      <td>float64</td>\n",
       "    </tr>\n",
       "    <tr>\n",
       "      <th>4</th>\n",
       "      <td>low</td>\n",
       "      <td>float64</td>\n",
       "    </tr>\n",
       "    <tr>\n",
       "      <th>5</th>\n",
       "      <td>high</td>\n",
       "      <td>float64</td>\n",
       "    </tr>\n",
       "    <tr>\n",
       "      <th>6</th>\n",
       "      <td>volume</td>\n",
       "      <td>float64</td>\n",
       "    </tr>\n",
       "  </tbody>\n",
       "</table>\n",
       "</div>"
      ],
      "text/plain": [
       "  Columns Datatypes\n",
       "0    date    object\n",
       "1  symbol    object\n",
       "2    open   float64\n",
       "3   close   float64\n",
       "4     low   float64\n",
       "5    high   float64\n",
       "6  volume   float64"
      ]
     },
     "execution_count": 15,
     "metadata": {
      "tags": []
     },
     "output_type": "execute_result"
    }
   ],
   "source": [
    "DT=data.dtypes.to_frame(name='Datatypes')\n",
    "DT.reset_index(level=None, drop=False, inplace=True)\n",
    "DT.rename(columns ={'index':'Columns'},inplace=True)\n",
    "DT"
   ]
  },
  {
   "cell_type": "markdown",
   "metadata": {
    "id": "HlLKVPVH_BCT"
   },
   "source": [
    "## Question 2"
   ]
  },
  {
   "cell_type": "markdown",
   "metadata": {
    "id": "ZxoGynuBeO4t"
   },
   "source": [
    "### Drop null\n",
    "- Drop null values if any"
   ]
  },
  {
   "cell_type": "code",
   "execution_count": 16,
   "metadata": {
    "colab": {
     "base_uri": "https://localhost:8080/"
    },
    "id": "_yuwJJIeeUaD",
    "outputId": "5bc8a778-9b30-4b40-f481-14780e91b7db"
   },
   "outputs": [
    {
     "name": "stdout",
     "output_type": "stream",
     "text": [
      "date 0\n",
      "symbol 0\n",
      "open 0\n",
      "close 0\n",
      "low 0\n",
      "high 0\n",
      "volume 0\n"
     ]
    }
   ],
   "source": [
    "for col in data.columns:\n",
    "    print(col,sum(data[col].isna()))"
   ]
  },
  {
   "cell_type": "markdown",
   "metadata": {
    "id": "9J4BlzVA_gZd"
   },
   "source": [
    "### Drop columns\n",
    "- Now, we don't need \"date\", \"volume\" and \"symbol\" column\n",
    "- drop \"date\", \"volume\" and \"symbol\" column from the data\n"
   ]
  },
  {
   "cell_type": "code",
   "execution_count": 46,
   "metadata": {
    "id": "IKEK8aEE_Csx"
   },
   "outputs": [],
   "source": [
    "data.drop(['date','volume','symbol'], axis=1,inplace=True)"
   ]
  },
  {
   "cell_type": "markdown",
   "metadata": {
    "id": "cTPhO6v-AiZt"
   },
   "source": [
    "## Question 3"
   ]
  },
  {
   "cell_type": "markdown",
   "metadata": {
    "id": "SsZXmF3NAkna"
   },
   "source": [
    "### Print the dataframe\n",
    "- print the modified dataframe"
   ]
  },
  {
   "cell_type": "code",
   "execution_count": 47,
   "metadata": {
    "colab": {
     "base_uri": "https://localhost:8080/",
     "height": 345
    },
    "id": "aKs04iIHAjxN",
    "outputId": "bd136929-33f3-4ee7-94f9-13c2a3c9c396"
   },
   "outputs": [
    {
     "data": {
      "text/html": [
       "<div>\n",
       "<style scoped>\n",
       "    .dataframe tbody tr th:only-of-type {\n",
       "        vertical-align: middle;\n",
       "    }\n",
       "\n",
       "    .dataframe tbody tr th {\n",
       "        vertical-align: top;\n",
       "    }\n",
       "\n",
       "    .dataframe thead th {\n",
       "        text-align: right;\n",
       "    }\n",
       "</style>\n",
       "<table border=\"1\" class=\"dataframe\">\n",
       "  <thead>\n",
       "    <tr style=\"text-align: right;\">\n",
       "      <th></th>\n",
       "      <th>open</th>\n",
       "      <th>close</th>\n",
       "      <th>low</th>\n",
       "      <th>high</th>\n",
       "    </tr>\n",
       "  </thead>\n",
       "  <tbody>\n",
       "    <tr>\n",
       "      <th>0</th>\n",
       "      <td>123.430000</td>\n",
       "      <td>125.839996</td>\n",
       "      <td>122.309998</td>\n",
       "      <td>126.250000</td>\n",
       "    </tr>\n",
       "    <tr>\n",
       "      <th>1</th>\n",
       "      <td>125.239998</td>\n",
       "      <td>119.980003</td>\n",
       "      <td>119.940002</td>\n",
       "      <td>125.540001</td>\n",
       "    </tr>\n",
       "    <tr>\n",
       "      <th>2</th>\n",
       "      <td>116.379997</td>\n",
       "      <td>114.949997</td>\n",
       "      <td>114.930000</td>\n",
       "      <td>119.739998</td>\n",
       "    </tr>\n",
       "    <tr>\n",
       "      <th>3</th>\n",
       "      <td>115.480003</td>\n",
       "      <td>116.620003</td>\n",
       "      <td>113.500000</td>\n",
       "      <td>117.440002</td>\n",
       "    </tr>\n",
       "    <tr>\n",
       "      <th>4</th>\n",
       "      <td>117.010002</td>\n",
       "      <td>114.970001</td>\n",
       "      <td>114.089996</td>\n",
       "      <td>117.330002</td>\n",
       "    </tr>\n",
       "    <tr>\n",
       "      <th>5</th>\n",
       "      <td>115.510002</td>\n",
       "      <td>115.550003</td>\n",
       "      <td>114.500000</td>\n",
       "      <td>116.059998</td>\n",
       "    </tr>\n",
       "    <tr>\n",
       "      <th>6</th>\n",
       "      <td>116.459999</td>\n",
       "      <td>112.849998</td>\n",
       "      <td>112.589996</td>\n",
       "      <td>117.070000</td>\n",
       "    </tr>\n",
       "    <tr>\n",
       "      <th>7</th>\n",
       "      <td>113.510002</td>\n",
       "      <td>114.379997</td>\n",
       "      <td>110.050003</td>\n",
       "      <td>115.029999</td>\n",
       "    </tr>\n",
       "    <tr>\n",
       "      <th>8</th>\n",
       "      <td>113.330002</td>\n",
       "      <td>112.529999</td>\n",
       "      <td>111.919998</td>\n",
       "      <td>114.879997</td>\n",
       "    </tr>\n",
       "    <tr>\n",
       "      <th>9</th>\n",
       "      <td>113.660004</td>\n",
       "      <td>110.379997</td>\n",
       "      <td>109.870003</td>\n",
       "      <td>115.870003</td>\n",
       "    </tr>\n",
       "  </tbody>\n",
       "</table>\n",
       "</div>"
      ],
      "text/plain": [
       "         open       close         low        high\n",
       "0  123.430000  125.839996  122.309998  126.250000\n",
       "1  125.239998  119.980003  119.940002  125.540001\n",
       "2  116.379997  114.949997  114.930000  119.739998\n",
       "3  115.480003  116.620003  113.500000  117.440002\n",
       "4  117.010002  114.970001  114.089996  117.330002\n",
       "5  115.510002  115.550003  114.500000  116.059998\n",
       "6  116.459999  112.849998  112.589996  117.070000\n",
       "7  113.510002  114.379997  110.050003  115.029999\n",
       "8  113.330002  112.529999  111.919998  114.879997\n",
       "9  113.660004  110.379997  109.870003  115.870003"
      ]
     },
     "execution_count": 47,
     "metadata": {
      "tags": []
     },
     "output_type": "execute_result"
    }
   ],
   "source": [
    "data.head(10)"
   ]
  },
  {
   "cell_type": "markdown",
   "metadata": {
    "id": "C8u_jlbABTip"
   },
   "source": [
    "### Get features and label from the dataset in separate variable\n",
    "- Let's separate labels and features now. We are going to predict the value for \"close\" column so that will be our label. Our features will be \"open\", \"low\", \"high\"\n",
    "- Take \"open\" \"low\", \"high\" columns as features\n",
    "- Take \"close\" column as label"
   ]
  },
  {
   "cell_type": "code",
   "execution_count": 48,
   "metadata": {
    "id": "xQjCMzUXBJbg"
   },
   "outputs": [],
   "source": [
    "y=data.pop('close').to_frame(name='close')"
   ]
  },
  {
   "cell_type": "code",
   "execution_count": 49,
   "metadata": {
    "id": "_fMrakrtXWfp"
   },
   "outputs": [],
   "source": [
    "X=data"
   ]
  },
  {
   "cell_type": "code",
   "execution_count": 50,
   "metadata": {
    "colab": {
     "base_uri": "https://localhost:8080/"
    },
    "id": "oymmCWSeWIPE",
    "outputId": "9d348759-775f-4db0-9272-28b4bddcfae5"
   },
   "outputs": [
    {
     "name": "stdout",
     "output_type": "stream",
     "text": [
      "(851264, 3) (851264, 1)\n"
     ]
    }
   ],
   "source": [
    "print(X.shape,y.shape)"
   ]
  },
  {
   "cell_type": "markdown",
   "metadata": {
    "id": "6vGtnapgBIJm"
   },
   "source": [
    "## Question 4"
   ]
  },
  {
   "cell_type": "markdown",
   "metadata": {
    "id": "8pZAKdJ5gcrm"
   },
   "source": [
    "### Create train and test sets\n",
    "- Split the data into training and testing"
   ]
  },
  {
   "cell_type": "code",
   "execution_count": 51,
   "metadata": {
    "id": "KalRqA6Rgqsn"
   },
   "outputs": [],
   "source": [
    "from sklearn.model_selection import train_test_split\n",
    "X_train, X_test, y_train, y_test = train_test_split(X, y, test_size=0.30, random_state=1)"
   ]
  },
  {
   "cell_type": "markdown",
   "metadata": {
    "id": "aTAKzlxZBz0z"
   },
   "source": [
    "## Question 5"
   ]
  },
  {
   "cell_type": "markdown",
   "metadata": {
    "id": "O7BU2qxEg0Ki"
   },
   "source": [
    "### Scaling\n",
    "- Scale the data (features only)\n",
    "- Use StandarScaler"
   ]
  },
  {
   "cell_type": "code",
   "execution_count": 52,
   "metadata": {
    "id": "AcO8SlhPhBkR"
   },
   "outputs": [],
   "source": [
    "from sklearn.preprocessing import StandardScaler \n",
    "sc=StandardScaler()\n",
    "X_train_std=sc.fit_transform(X_train)\n",
    "X_test_std=sc.transform(X_test)"
   ]
  },
  {
   "cell_type": "markdown",
   "metadata": {
    "id": "3TWpN0nVTpUx"
   },
   "source": [
    "## Question 6"
   ]
  },
  {
   "cell_type": "markdown",
   "metadata": {
    "id": "_sj0LYNkhR-L"
   },
   "source": [
    "### Convert data to NumPy array\n",
    "- Convert features and labels to numpy array"
   ]
  },
  {
   "cell_type": "code",
   "execution_count": 53,
   "metadata": {
    "id": "X6mIfuTxhbTT"
   },
   "outputs": [],
   "source": [
    "X_train_std = np.asarray(X_train_std)\n",
    "X_test_std = np.asarray(X_test_std)\n",
    "\n",
    "y_train= np.array(y_train)\n",
    "y_test= np.array(y_test)"
   ]
  },
  {
   "cell_type": "code",
   "execution_count": 54,
   "metadata": {
    "id": "z8zrfbX1iXRt"
   },
   "outputs": [],
   "source": [
    "X_train_std=X_train_std.reshape(X_train_std.shape[0],X_train_std.shape[1],1)\n",
    "X_test_std=X_test_std.reshape(X_test_std.shape[0],X_test_std.shape[1],1)"
   ]
  },
  {
   "cell_type": "markdown",
   "metadata": {
    "id": "wmXUGc2oTspa"
   },
   "source": [
    "## Question 7"
   ]
  },
  {
   "cell_type": "markdown",
   "metadata": {
    "id": "cl2M9whFh6mh"
   },
   "source": [
    "### Define Model\n",
    "- Initialize a Sequential model\n",
    "- Add a Flatten layer\n",
    "- Add a Dense layer with one neuron as output\n",
    "  - add 'linear' as activation function\n"
   ]
  },
  {
   "cell_type": "code",
   "execution_count": 55,
   "metadata": {
    "id": "TkiBpORmiegL"
   },
   "outputs": [],
   "source": [
    "from tensorflow.keras.models import Sequential\n",
    "from tensorflow.keras.layers import Flatten, Dense\n",
    "\n",
    "model=Sequential([Flatten(),Dense(1, activation='linear')])"
   ]
  },
  {
   "cell_type": "markdown",
   "metadata": {
    "id": "8a0wr94aTyjg"
   },
   "source": [
    "## Question 8"
   ]
  },
  {
   "cell_type": "markdown",
   "metadata": {
    "id": "BNZPb5lKioX0"
   },
   "source": [
    "### Compile the model\n",
    "- Compile the model\n",
    "- Use \"sgd\" optimizer\n",
    "- for calculating loss, use mean squared error"
   ]
  },
  {
   "cell_type": "code",
   "execution_count": 56,
   "metadata": {
    "id": "ZEQUP3VaiuT2"
   },
   "outputs": [],
   "source": [
    "model.compile(optimizer='sgd', loss='mean_squared_error')"
   ]
  },
  {
   "cell_type": "markdown",
   "metadata": {
    "id": "ZbBpnOtfT0wd"
   },
   "source": [
    "## Question 9"
   ]
  },
  {
   "cell_type": "markdown",
   "metadata": {
    "id": "n9o45OHdjDhA"
   },
   "source": [
    "### Fit the model\n",
    "- epochs: 50\n",
    "- batch size: 128\n",
    "- specify validation data"
   ]
  },
  {
   "cell_type": "code",
   "execution_count": 57,
   "metadata": {
    "colab": {
     "base_uri": "https://localhost:8080/"
    },
    "id": "-Y6tA30XjOH2",
    "outputId": "f55ddffc-a744-44dd-a481-7f4a7eb2c7e2"
   },
   "outputs": [
    {
     "name": "stdout",
     "output_type": "stream",
     "text": [
      "Epoch 1/50\n",
      "4656/4656 [==============================] - 5s 1ms/step - loss: 41.3080 - val_loss: 0.9972\n",
      "Epoch 2/50\n",
      "4656/4656 [==============================] - 5s 1ms/step - loss: 0.9492 - val_loss: 0.9965\n",
      "Epoch 3/50\n",
      "4656/4656 [==============================] - 5s 1ms/step - loss: 0.9442 - val_loss: 0.9877\n",
      "Epoch 4/50\n",
      "4656/4656 [==============================] - 5s 1ms/step - loss: 0.9364 - val_loss: 0.9759\n",
      "Epoch 5/50\n",
      "4656/4656 [==============================] - 5s 1ms/step - loss: 0.9309 - val_loss: 0.9696\n",
      "Epoch 6/50\n",
      "4656/4656 [==============================] - 5s 1ms/step - loss: 0.9242 - val_loss: 0.9960\n",
      "Epoch 7/50\n",
      "4656/4656 [==============================] - 5s 1ms/step - loss: 0.9193 - val_loss: 0.9559\n",
      "Epoch 8/50\n",
      "4656/4656 [==============================] - 5s 1ms/step - loss: 0.9127 - val_loss: 0.9579\n",
      "Epoch 9/50\n",
      "4656/4656 [==============================] - 5s 1ms/step - loss: 0.9063 - val_loss: 0.9553\n",
      "Epoch 10/50\n",
      "4656/4656 [==============================] - 5s 1ms/step - loss: 0.8989 - val_loss: 0.9433\n",
      "Epoch 11/50\n",
      "4656/4656 [==============================] - 5s 1ms/step - loss: 0.8947 - val_loss: 0.9374\n",
      "Epoch 12/50\n",
      "4656/4656 [==============================] - 5s 1ms/step - loss: 0.8866 - val_loss: 0.9248\n",
      "Epoch 13/50\n",
      "4656/4656 [==============================] - 5s 1ms/step - loss: 0.8809 - val_loss: 0.9215\n",
      "Epoch 14/50\n",
      "4656/4656 [==============================] - 5s 1ms/step - loss: 0.8753 - val_loss: 0.9130\n",
      "Epoch 15/50\n",
      "4656/4656 [==============================] - 5s 1ms/step - loss: 0.8719 - val_loss: 0.9128\n",
      "Epoch 16/50\n",
      "4656/4656 [==============================] - 5s 1ms/step - loss: 0.8646 - val_loss: 0.9004\n",
      "Epoch 17/50\n",
      "4656/4656 [==============================] - 5s 1ms/step - loss: 0.8593 - val_loss: 0.8956\n",
      "Epoch 18/50\n",
      "4656/4656 [==============================] - 5s 1ms/step - loss: 0.8536 - val_loss: 0.9137\n",
      "Epoch 19/50\n",
      "4656/4656 [==============================] - 6s 1ms/step - loss: 0.8474 - val_loss: 0.8834\n",
      "Epoch 20/50\n",
      "4656/4656 [==============================] - 6s 1ms/step - loss: 0.8429 - val_loss: 0.8828\n",
      "Epoch 21/50\n",
      "4656/4656 [==============================] - 6s 1ms/step - loss: 0.8381 - val_loss: 0.8723\n",
      "Epoch 22/50\n",
      "4656/4656 [==============================] - 6s 1ms/step - loss: 0.8330 - val_loss: 0.8762\n",
      "Epoch 23/50\n",
      "4656/4656 [==============================] - 5s 1ms/step - loss: 0.8281 - val_loss: 0.8630\n",
      "Epoch 24/50\n",
      "4656/4656 [==============================] - 5s 1ms/step - loss: 0.8223 - val_loss: 0.8592\n",
      "Epoch 25/50\n",
      "4656/4656 [==============================] - 5s 1ms/step - loss: 0.8186 - val_loss: 0.8681\n",
      "Epoch 26/50\n",
      "4656/4656 [==============================] - 5s 1ms/step - loss: 0.8113 - val_loss: 0.8465\n",
      "Epoch 27/50\n",
      "4656/4656 [==============================] - 5s 1ms/step - loss: 0.8074 - val_loss: 0.8420\n",
      "Epoch 28/50\n",
      "4656/4656 [==============================] - 5s 1ms/step - loss: 0.8029 - val_loss: 0.8370\n",
      "Epoch 29/50\n",
      "4656/4656 [==============================] - 5s 1ms/step - loss: 0.7997 - val_loss: 0.8309\n",
      "Epoch 30/50\n",
      "4656/4656 [==============================] - 5s 1ms/step - loss: 0.7926 - val_loss: 0.8291\n",
      "Epoch 31/50\n",
      "4656/4656 [==============================] - 5s 1ms/step - loss: 0.7883 - val_loss: 0.8247\n",
      "Epoch 32/50\n",
      "4656/4656 [==============================] - 5s 1ms/step - loss: 0.7846 - val_loss: 0.8165\n",
      "Epoch 33/50\n",
      "4656/4656 [==============================] - 5s 1ms/step - loss: 0.7787 - val_loss: 0.8127\n",
      "Epoch 34/50\n",
      "4656/4656 [==============================] - 5s 1ms/step - loss: 0.7738 - val_loss: 0.8125\n",
      "Epoch 35/50\n",
      "4656/4656 [==============================] - 5s 1ms/step - loss: 0.7714 - val_loss: 0.8083\n",
      "Epoch 36/50\n",
      "4656/4656 [==============================] - 5s 1ms/step - loss: 0.7663 - val_loss: 0.8021\n",
      "Epoch 37/50\n",
      "4656/4656 [==============================] - 5s 1ms/step - loss: 0.7623 - val_loss: 0.8068\n",
      "Epoch 38/50\n",
      "4656/4656 [==============================] - 5s 1ms/step - loss: 0.7581 - val_loss: 0.7888\n",
      "Epoch 39/50\n",
      "4656/4656 [==============================] - 5s 1ms/step - loss: 0.7529 - val_loss: 0.7882\n",
      "Epoch 40/50\n",
      "4656/4656 [==============================] - 5s 1ms/step - loss: 0.7486 - val_loss: 0.7892\n",
      "Epoch 41/50\n",
      "4656/4656 [==============================] - 5s 1ms/step - loss: 0.7441 - val_loss: 0.8130\n",
      "Epoch 42/50\n",
      "4656/4656 [==============================] - 5s 1ms/step - loss: 0.7410 - val_loss: 0.7707\n",
      "Epoch 43/50\n",
      "4656/4656 [==============================] - 5s 1ms/step - loss: 0.7379 - val_loss: 0.7670\n",
      "Epoch 44/50\n",
      "4656/4656 [==============================] - 5s 1ms/step - loss: 0.7325 - val_loss: 0.7638\n",
      "Epoch 45/50\n",
      "4656/4656 [==============================] - 5s 1ms/step - loss: 0.7301 - val_loss: 0.7590\n",
      "Epoch 46/50\n",
      "4656/4656 [==============================] - 5s 1ms/step - loss: 0.7262 - val_loss: 0.7645\n",
      "Epoch 47/50\n",
      "4656/4656 [==============================] - 5s 1ms/step - loss: 0.7224 - val_loss: 0.7541\n",
      "Epoch 48/50\n",
      "4656/4656 [==============================] - 5s 1ms/step - loss: 0.7173 - val_loss: 0.7462\n",
      "Epoch 49/50\n",
      "4656/4656 [==============================] - 5s 1ms/step - loss: 0.7142 - val_loss: 0.7430\n",
      "Epoch 50/50\n",
      "4656/4656 [==============================] - 5s 1ms/step - loss: 0.7101 - val_loss: 0.7386\n"
     ]
    },
    {
     "data": {
      "text/plain": [
       "<tensorflow.python.keras.callbacks.History at 0x7fcc977c1a90>"
      ]
     },
     "execution_count": 57,
     "metadata": {
      "tags": []
     },
     "output_type": "execute_result"
    }
   ],
   "source": [
    "model.fit(X_train_std, y_train, epochs=50, batch_size=128 , validation_data=(X_test_std,y_test)) #batch_size/epoch = no of iterations"
   ]
  },
  {
   "cell_type": "markdown",
   "metadata": {
    "id": "AW4SEP8kT2ls"
   },
   "source": [
    "## Question 10"
   ]
  },
  {
   "cell_type": "markdown",
   "metadata": {
    "id": "EJDoix_7JU61"
   },
   "source": [
    "### Evaluate the model\n",
    "- Evaluate the model on test data"
   ]
  },
  {
   "cell_type": "code",
   "execution_count": 58,
   "metadata": {
    "colab": {
     "base_uri": "https://localhost:8080/"
    },
    "id": "HdH8pYBIjHGL",
    "outputId": "c95b801b-0ee8-4b0d-812d-30dc8231f99c"
   },
   "outputs": [
    {
     "name": "stdout",
     "output_type": "stream",
     "text": [
      "7981/7981 [==============================] - 5s 687us/step - loss: 0.7386\n"
     ]
    },
    {
     "data": {
      "text/plain": [
       "0.7386330962181091"
      ]
     },
     "execution_count": 58,
     "metadata": {
      "tags": []
     },
     "output_type": "execute_result"
    }
   ],
   "source": [
    "model.evaluate(X_test_std,y_test)"
   ]
  },
  {
   "cell_type": "markdown",
   "metadata": {
    "id": "hUpDD74Xjh01"
   },
   "source": [
    "### Manual predictions\n",
    "- Test the predictions on manual inputs\n",
    "- We have scaled out training data, so we need to transform our custom inputs using the object of the scaler\n",
    "- Example of manual input: [123.430000,\t122.30999, 116.250000]"
   ]
  },
  {
   "cell_type": "code",
   "execution_count": 59,
   "metadata": {
    "colab": {
     "base_uri": "https://localhost:8080/"
    },
    "id": "fvuH-c31lLiJ",
    "outputId": "f0e43dd7-9d6b-4657-9bba-9fedbaf24c66"
   },
   "outputs": [
    {
     "data": {
      "text/plain": [
       "array([[119.77532]], dtype=float32)"
      ]
     },
     "execution_count": 59,
     "metadata": {
      "tags": []
     },
     "output_type": "execute_result"
    }
   ],
   "source": [
    "model.predict(sc.transform([[123.430000, 122.30999, 116.250000]]))"
   ]
  },
  {
   "cell_type": "markdown",
   "metadata": {
    "id": "4WH1Pr4KQlCh"
   },
   "source": [
    "# Build a DNN"
   ]
  },
  {
   "cell_type": "markdown",
   "metadata": {
    "id": "74cQBsi5QlCw"
   },
   "source": [
    "### Collect Fashion mnist data from tf.keras.datasets "
   ]
  },
  {
   "cell_type": "code",
   "execution_count": 92,
   "metadata": {
    "id": "wVWy0oDTr2Kj"
   },
   "outputs": [],
   "source": [
    "import tensorflow as tf\n",
    "(trainX, trainy), (testX, testy) = tf.keras.datasets.fashion_mnist.load_data()"
   ]
  },
  {
   "cell_type": "code",
   "execution_count": 93,
   "metadata": {
    "colab": {
     "base_uri": "https://localhost:8080/"
    },
    "id": "7ybe-IP4y5Ql",
    "outputId": "e24d0f1a-0a0e-490b-bb9b-c413597f363b"
   },
   "outputs": [
    {
     "data": {
      "text/plain": [
       "array([0, 1, 2, 3, 4, 5, 6, 7, 8, 9], dtype=uint8)"
      ]
     },
     "execution_count": 93,
     "metadata": {
      "tags": []
     },
     "output_type": "execute_result"
    }
   ],
   "source": [
    "u, indices = np.unique(trainy, return_inverse=True)\n",
    "u #there are 10 categories in which the Apparels are grouped into"
   ]
  },
  {
   "cell_type": "code",
   "execution_count": 94,
   "metadata": {
    "id": "Cjj983GGz-BX"
   },
   "outputs": [],
   "source": [
    "# class names are not included, need to create them to plot the images  \n",
    "class_names = ['T-shirt/top', 'Trouser', 'Pullover', 'Dress', 'Coat', 'Sandal', 'Shirt', 'Sneaker', 'Bag', 'Ankle boot']\n"
   ]
  },
  {
   "cell_type": "code",
   "execution_count": 95,
   "metadata": {
    "colab": {
     "base_uri": "https://localhost:8080/",
     "height": 96
    },
    "id": "P73lWFQq0C1X",
    "outputId": "8e27b2dd-8ba8-415d-a994-b606861160ed"
   },
   "outputs": [
    {
     "data": {
      "image/png": "[encoded data removed]",
      "text/plain": [
       "<Figure size 720x72 with 10 Axes>"
      ]
     },
     "metadata": {
      "needs_background": "light",
      "tags": []
     },
     "output_type": "display_data"
    },
    {
     "name": "stdout",
     "output_type": "stream",
     "text": [
      "label for each of the above image: [9 0 0 3 0 2 7 2 5 5]\n"
     ]
    }
   ],
   "source": [
    "%matplotlib inline\n",
    "import matplotlib.pyplot as plt\n",
    "plt.figure(figsize=(10, 1))\n",
    "for i in range(10):\n",
    "    plt.subplot(1, 10, i+1)\n",
    "    plt.imshow(trainX[i].reshape(28, 28), cmap=\"gray\")\n",
    "    plt.axis('off')\n",
    "plt.show()\n",
    "print('label for each of the above image: %s' % (trainy[0:10]))"
   ]
  },
  {
   "cell_type": "markdown",
   "metadata": {
    "id": "no7aWYZyQlC1"
   },
   "source": [
    "### Change train and test labels into one-hot vectors"
   ]
  },
  {
   "cell_type": "code",
   "execution_count": 96,
   "metadata": {
    "id": "UX6otc4wQlC2"
   },
   "outputs": [],
   "source": [
    "trainy = tf.keras.utils.to_categorical(trainy,num_classes=10) \n",
    "testy =  tf.keras.utils.to_categorical(testy,num_classes=10) "
   ]
  },
  {
   "cell_type": "code",
   "execution_count": 97,
   "metadata": {
    "colab": {
     "base_uri": "https://localhost:8080/"
    },
    "id": "8EqQfIon16DS",
    "outputId": "f093f2f6-b2ff-4e1a-c77f-143a91bac116"
   },
   "outputs": [
    {
     "data": {
      "text/plain": [
       "array([0., 0., 0., 0., 0., 0., 0., 0., 0., 1.], dtype=float32)"
      ]
     },
     "execution_count": 97,
     "metadata": {
      "tags": []
     },
     "output_type": "execute_result"
    }
   ],
   "source": [
    "trainy[0]"
   ]
  },
  {
   "cell_type": "markdown",
   "metadata": {
    "id": "QjNrRTdoQlC5"
   },
   "source": [
    "### Build the Graph"
   ]
  },
  {
   "cell_type": "markdown",
   "metadata": {
    "id": "CDJ9DHVNQlC7"
   },
   "source": [
    "### Initialize model, reshape & normalize data"
   ]
  },
  {
   "cell_type": "code",
   "execution_count": 98,
   "metadata": {
    "id": "pCDQs_g1QlC8"
   },
   "outputs": [],
   "source": [
    "model1=tf.keras.models.Sequential()\n",
    "model1.add(tf.keras.layers.Reshape((784,), input_shape =(28,28,)))\n",
    "model1.add(tf.keras.layers.BatchNormalization()) "
   ]
  },
  {
   "cell_type": "markdown",
   "metadata": {
    "id": "kBGwTTilQlDD"
   },
   "source": [
    "### Add two fully connected layers with 200 and 100 neurons respectively with `relu` activations. Add a dropout layer with `p=0.25`"
   ]
  },
  {
   "cell_type": "code",
   "execution_count": 99,
   "metadata": {
    "id": "IXbfpfOzQlDF"
   },
   "outputs": [],
   "source": [
    "model1.add(tf.keras.layers.Dense(200, activation ='relu'))\n",
    "model1.add(tf.keras.layers.Dense(100, activation ='relu'))\n",
    "model1.add(tf.keras.layers.Dropout(0.25))"
   ]
  },
  {
   "cell_type": "markdown",
   "metadata": {
    "id": "5I8f5otcQlDJ"
   },
   "source": [
    "### Add the output layer with a fully connected layer with 10 neurons with `softmax` activation. Use `categorical_crossentropy` loss and `adam` optimizer and train the network. And, report the final validation."
   ]
  },
  {
   "cell_type": "code",
   "execution_count": 100,
   "metadata": {
    "colab": {
     "base_uri": "https://localhost:8080/"
    },
    "id": "JZkvKymSd0Sr",
    "outputId": "d431c531-a11d-462f-e2f8-d4c7762a6886"
   },
   "outputs": [
    {
     "name": "stdout",
     "output_type": "stream",
     "text": [
      "Epoch 1/15\n",
      "1875/1875 [==============================] - 8s 4ms/step - loss: 0.5092 - accuracy: 0.8184 - val_loss: 0.4102 - val_accuracy: 0.8520\n",
      "Epoch 2/15\n",
      "1875/1875 [==============================] - 8s 4ms/step - loss: 0.4000 - accuracy: 0.8542 - val_loss: 0.3643 - val_accuracy: 0.8649\n",
      "Epoch 3/15\n",
      "1875/1875 [==============================] - 8s 4ms/step - loss: 0.3645 - accuracy: 0.8658 - val_loss: 0.3614 - val_accuracy: 0.8679\n",
      "Epoch 4/15\n",
      "1875/1875 [==============================] - 8s 4ms/step - loss: 0.3365 - accuracy: 0.8752 - val_loss: 0.3630 - val_accuracy: 0.8717\n",
      "Epoch 5/15\n",
      "1875/1875 [==============================] - 8s 4ms/step - loss: 0.3165 - accuracy: 0.8828 - val_loss: 0.3727 - val_accuracy: 0.8709\n",
      "Epoch 6/15\n",
      "1875/1875 [==============================] - 8s 4ms/step - loss: 0.3006 - accuracy: 0.8883 - val_loss: 0.3530 - val_accuracy: 0.8755\n",
      "Epoch 7/15\n",
      "1875/1875 [==============================] - 8s 4ms/step - loss: 0.2881 - accuracy: 0.8925 - val_loss: 0.3354 - val_accuracy: 0.8823\n",
      "Epoch 8/15\n",
      "1875/1875 [==============================] - 8s 4ms/step - loss: 0.2734 - accuracy: 0.8959 - val_loss: 0.3394 - val_accuracy: 0.8841\n",
      "Epoch 9/15\n",
      "1875/1875 [==============================] - 8s 4ms/step - loss: 0.2655 - accuracy: 0.9000 - val_loss: 0.3384 - val_accuracy: 0.8814\n",
      "Epoch 10/15\n",
      "1875/1875 [==============================] - 8s 4ms/step - loss: 0.2586 - accuracy: 0.9032 - val_loss: 0.3334 - val_accuracy: 0.8869\n",
      "Epoch 11/15\n",
      "1875/1875 [==============================] - 8s 4ms/step - loss: 0.2495 - accuracy: 0.9048 - val_loss: 0.3644 - val_accuracy: 0.8875\n",
      "Epoch 12/15\n",
      "1875/1875 [==============================] - 8s 4ms/step - loss: 0.2381 - accuracy: 0.9088 - val_loss: 0.3492 - val_accuracy: 0.8865\n",
      "Epoch 13/15\n",
      "1875/1875 [==============================] - 8s 4ms/step - loss: 0.2332 - accuracy: 0.9115 - val_loss: 0.3580 - val_accuracy: 0.8894\n",
      "Epoch 14/15\n",
      "1875/1875 [==============================] - 8s 4ms/step - loss: 0.2227 - accuracy: 0.9156 - val_loss: 0.3703 - val_accuracy: 0.8877\n",
      "Epoch 15/15\n",
      "1875/1875 [==============================] - 8s 4ms/step - loss: 0.2198 - accuracy: 0.9176 - val_loss: 0.3708 - val_accuracy: 0.8878\n"
     ]
    },
    {
     "data": {
      "text/plain": [
       "<tensorflow.python.keras.callbacks.History at 0x7fcc970b27b8>"
      ]
     },
     "execution_count": 100,
     "metadata": {
      "tags": []
     },
     "output_type": "execute_result"
    }
   ],
   "source": [
    "model1.add(tf.keras.layers.Dense(10, activation ='softmax'))\n",
    "model1.compile(optimizer='adam', loss='categorical_crossentropy', metrics=['accuracy'])  \n",
    "model1.fit(trainX,trainy, validation_data=(testX, testy), epochs=15, batch_size=32)"
   ]
  },
  {
   "cell_type": "code",
   "execution_count": 101,
   "metadata": {
    "colab": {
     "base_uri": "https://localhost:8080/"
    },
    "id": "LbKXqWpMQ9Cw",
    "outputId": "00dba6bd-16f8-4eea-c4e0-a79af937f15b"
   },
   "outputs": [
    {
     "data": {
      "text/plain": [
       "[0.3707791864871979, 0.8877999782562256]"
      ]
     },
     "execution_count": 101,
     "metadata": {
      "tags": []
     },
     "output_type": "execute_result"
    }
   ],
   "source": [
    "model1.evaluate(testX,testy, verbose=0)"
   ]
  },
  {
   "cell_type": "code",
   "execution_count": null,
   "metadata": {
    "id": "WSiMhJPpk3GO"
   },
   "outputs": [],
   "source": []
  }
 ],
 "metadata": {
  "colab": {
   "collapsed_sections": [],
   "name": "Questions - Lab on NNDL.ipynb",
   "provenance": [],
   "toc_visible": true
  },
  "kernelspec": {
   "display_name": "Python 3",
   "language": "python",
   "name": "python3"
  },
  "language_info": {
   "codemirror_mode": {
    "name": "ipython",
    "version": 3
   },
   "file_extension": ".py",
   "mimetype": "text/x-python",
   "name": "python",
   "nbconvert_exporter": "python",
   "pygments_lexer": "ipython3",
   "version": "3.7.6"
  }
 },
 "nbformat": 4,
 "nbformat_minor": 1
}
