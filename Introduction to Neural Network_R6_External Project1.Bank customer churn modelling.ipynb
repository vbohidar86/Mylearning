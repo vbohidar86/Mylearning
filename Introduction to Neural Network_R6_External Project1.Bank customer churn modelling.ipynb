{
 "cells": [
  {
   "cell_type": "code",
   "execution_count": 1,
   "metadata": {},
   "outputs": [],
   "source": [
    "import tensorflow as tf"
   ]
  },
  {
   "cell_type": "code",
   "execution_count": 2,
   "metadata": {},
   "outputs": [
    {
     "name": "stdout",
     "output_type": "stream",
     "text": [
      "Requirement already satisfied: pandas in c:\\users\\hp\\anaconda3\\envs\\tensorflow\\lib\\site-packages (1.1.4)\n",
      "Requirement already satisfied: pytz>=2017.2 in c:\\users\\hp\\anaconda3\\envs\\tensorflow\\lib\\site-packages (from pandas) (2020.1)\n",
      "Requirement already satisfied: numpy>=1.15.4 in c:\\users\\hp\\anaconda3\\envs\\tensorflow\\lib\\site-packages (from pandas) (1.19.2)\n",
      "Requirement already satisfied: python-dateutil>=2.7.3 in c:\\users\\hp\\anaconda3\\envs\\tensorflow\\lib\\site-packages (from pandas) (2.8.1)\n",
      "Requirement already satisfied: six>=1.5 in c:\\users\\hp\\anaconda3\\envs\\tensorflow\\lib\\site-packages (from python-dateutil>=2.7.3->pandas) (1.15.0)\n",
      "Note: you may need to restart the kernel to use updated packages.\n"
     ]
    }
   ],
   "source": [
    "pip install pandas"
   ]
  },
  {
   "cell_type": "code",
   "execution_count": 3,
   "metadata": {},
   "outputs": [
    {
     "name": "stdout",
     "output_type": "stream",
     "text": [
      "Requirement already satisfied: matplotlib in c:\\users\\hp\\anaconda3\\envs\\tensorflow\\lib\\site-packages (3.3.2)\n",
      "Requirement already satisfied: cycler>=0.10 in c:\\users\\hp\\anaconda3\\envs\\tensorflow\\lib\\site-packages (from matplotlib) (0.10.0)\n",
      "Requirement already satisfied: numpy>=1.15 in c:\\users\\hp\\anaconda3\\envs\\tensorflow\\lib\\site-packages (from matplotlib) (1.19.2)\n",
      "Requirement already satisfied: certifi>=2020.06.20 in c:\\users\\hp\\anaconda3\\envs\\tensorflow\\lib\\site-packages (from matplotlib) (2020.6.20)\n",
      "Requirement already satisfied: pyparsing!=2.0.4,!=2.1.2,!=2.1.6,>=2.0.3 in c:\\users\\hp\\anaconda3\\envs\\tensorflow\\lib\\site-packages (from matplotlib) (2.4.7)\n",
      "Requirement already satisfied: python-dateutil>=2.1 in c:\\users\\hp\\anaconda3\\envs\\tensorflow\\lib\\site-packages (from matplotlib) (2.8.1)\n",
      "Requirement already satisfied: pillow>=6.2.0 in c:\\users\\hp\\anaconda3\\envs\\tensorflow\\lib\\site-packages (from matplotlib) (8.0.1)\n",
      "Requirement already satisfied: kiwisolver>=1.0.1 in c:\\users\\hp\\anaconda3\\envs\\tensorflow\\lib\\site-packages (from matplotlib) (1.2.0)\n",
      "Requirement already satisfied: six in c:\\users\\hp\\anaconda3\\envs\\tensorflow\\lib\\site-packages (from cycler>=0.10->matplotlib) (1.15.0)\n",
      "Note: you may need to restart the kernel to use updated packages.\n"
     ]
    }
   ],
   "source": [
    "pip install matplotlib"
   ]
  },
  {
   "cell_type": "code",
   "execution_count": 4,
   "metadata": {},
   "outputs": [
    {
     "name": "stdout",
     "output_type": "stream",
     "text": [
      "Requirement already satisfied: sklearn in c:\\users\\hp\\anaconda3\\envs\\tensorflow\\lib\\site-packages (0.0)\n",
      "Requirement already satisfied: scikit-learn in c:\\users\\hp\\anaconda3\\envs\\tensorflow\\lib\\site-packages (from sklearn) (0.23.2)\n",
      "Requirement already satisfied: numpy>=1.13.3 in c:\\users\\hp\\anaconda3\\envs\\tensorflow\\lib\\site-packages (from scikit-learn->sklearn) (1.19.2)\n",
      "Requirement already satisfied: joblib>=0.11 in c:\\users\\hp\\anaconda3\\envs\\tensorflow\\lib\\site-packages (from scikit-learn->sklearn) (0.17.0)\n",
      "Requirement already satisfied: scipy>=0.19.1 in c:\\users\\hp\\anaconda3\\envs\\tensorflow\\lib\\site-packages (from scikit-learn->sklearn) (1.5.2)\n",
      "Requirement already satisfied: threadpoolctl>=2.0.0 in c:\\users\\hp\\anaconda3\\envs\\tensorflow\\lib\\site-packages (from scikit-learn->sklearn) (2.1.0)\n",
      "Note: you may need to restart the kernel to use updated packages.\n"
     ]
    }
   ],
   "source": [
    "pip install sklearn"
   ]
  },
  {
   "cell_type": "code",
   "execution_count": 5,
   "metadata": {},
   "outputs": [],
   "source": [
    "import numpy as np\n",
    "import pandas as pd\n",
    "import matplotlib.pyplot as plt"
   ]
  },
  {
   "cell_type": "code",
   "execution_count": 6,
   "metadata": {},
   "outputs": [],
   "source": [
    "# # Q1 - Read the dataset"
   ]
  },
  {
   "cell_type": "code",
   "execution_count": 7,
   "metadata": {},
   "outputs": [],
   "source": [
    "df = pd.read_csv (\"C:\\\\Users\\\\hp\\\\Desktop\\\\Churn_Modelling.csv\")"
   ]
  },
  {
   "cell_type": "code",
   "execution_count": 8,
   "metadata": {},
   "outputs": [
    {
     "data": {
      "text/html": [
       "<div>\n",
       "<style scoped>\n",
       "    .dataframe tbody tr th:only-of-type {\n",
       "        vertical-align: middle;\n",
       "    }\n",
       "\n",
       "    .dataframe tbody tr th {\n",
       "        vertical-align: top;\n",
       "    }\n",
       "\n",
       "    .dataframe thead th {\n",
       "        text-align: right;\n",
       "    }\n",
       "</style>\n",
       "<table border=\"1\" class=\"dataframe\">\n",
       "  <thead>\n",
       "    <tr style=\"text-align: right;\">\n",
       "      <th></th>\n",
       "      <th>RowNumber</th>\n",
       "      <th>CustomerId</th>\n",
       "      <th>Surname</th>\n",
       "      <th>CreditScore</th>\n",
       "      <th>Geography</th>\n",
       "      <th>Gender</th>\n",
       "      <th>Age</th>\n",
       "      <th>Tenure</th>\n",
       "      <th>Balance</th>\n",
       "      <th>NumOfProducts</th>\n",
       "      <th>HasCrCard</th>\n",
       "      <th>IsActiveMember</th>\n",
       "      <th>EstimatedSalary</th>\n",
       "      <th>Exited</th>\n",
       "    </tr>\n",
       "  </thead>\n",
       "  <tbody>\n",
       "    <tr>\n",
       "      <th>0</th>\n",
       "      <td>1</td>\n",
       "      <td>15634602</td>\n",
       "      <td>Hargrave</td>\n",
       "      <td>619</td>\n",
       "      <td>France</td>\n",
       "      <td>Female</td>\n",
       "      <td>42</td>\n",
       "      <td>2</td>\n",
       "      <td>0.00</td>\n",
       "      <td>1</td>\n",
       "      <td>1</td>\n",
       "      <td>1</td>\n",
       "      <td>101348.88</td>\n",
       "      <td>1</td>\n",
       "    </tr>\n",
       "    <tr>\n",
       "      <th>1</th>\n",
       "      <td>2</td>\n",
       "      <td>15647311</td>\n",
       "      <td>Hill</td>\n",
       "      <td>608</td>\n",
       "      <td>Spain</td>\n",
       "      <td>Female</td>\n",
       "      <td>41</td>\n",
       "      <td>1</td>\n",
       "      <td>83807.86</td>\n",
       "      <td>1</td>\n",
       "      <td>0</td>\n",
       "      <td>1</td>\n",
       "      <td>112542.58</td>\n",
       "      <td>0</td>\n",
       "    </tr>\n",
       "    <tr>\n",
       "      <th>2</th>\n",
       "      <td>3</td>\n",
       "      <td>15619304</td>\n",
       "      <td>Onio</td>\n",
       "      <td>502</td>\n",
       "      <td>France</td>\n",
       "      <td>Female</td>\n",
       "      <td>42</td>\n",
       "      <td>8</td>\n",
       "      <td>159660.80</td>\n",
       "      <td>3</td>\n",
       "      <td>1</td>\n",
       "      <td>0</td>\n",
       "      <td>113931.57</td>\n",
       "      <td>1</td>\n",
       "    </tr>\n",
       "    <tr>\n",
       "      <th>3</th>\n",
       "      <td>4</td>\n",
       "      <td>15701354</td>\n",
       "      <td>Boni</td>\n",
       "      <td>699</td>\n",
       "      <td>France</td>\n",
       "      <td>Female</td>\n",
       "      <td>39</td>\n",
       "      <td>1</td>\n",
       "      <td>0.00</td>\n",
       "      <td>2</td>\n",
       "      <td>0</td>\n",
       "      <td>0</td>\n",
       "      <td>93826.63</td>\n",
       "      <td>0</td>\n",
       "    </tr>\n",
       "    <tr>\n",
       "      <th>4</th>\n",
       "      <td>5</td>\n",
       "      <td>15737888</td>\n",
       "      <td>Mitchell</td>\n",
       "      <td>850</td>\n",
       "      <td>Spain</td>\n",
       "      <td>Female</td>\n",
       "      <td>43</td>\n",
       "      <td>2</td>\n",
       "      <td>125510.82</td>\n",
       "      <td>1</td>\n",
       "      <td>1</td>\n",
       "      <td>1</td>\n",
       "      <td>79084.10</td>\n",
       "      <td>0</td>\n",
       "    </tr>\n",
       "  </tbody>\n",
       "</table>\n",
       "</div>"
      ],
      "text/plain": [
       "   RowNumber  CustomerId   Surname  CreditScore Geography  Gender  Age  \\\n",
       "0          1    15634602  Hargrave          619    France  Female   42   \n",
       "1          2    15647311      Hill          608     Spain  Female   41   \n",
       "2          3    15619304      Onio          502    France  Female   42   \n",
       "3          4    15701354      Boni          699    France  Female   39   \n",
       "4          5    15737888  Mitchell          850     Spain  Female   43   \n",
       "\n",
       "   Tenure    Balance  NumOfProducts  HasCrCard  IsActiveMember  \\\n",
       "0       2       0.00              1          1               1   \n",
       "1       1   83807.86              1          0               1   \n",
       "2       8  159660.80              3          1               0   \n",
       "3       1       0.00              2          0               0   \n",
       "4       2  125510.82              1          1               1   \n",
       "\n",
       "   EstimatedSalary  Exited  \n",
       "0        101348.88       1  \n",
       "1        112542.58       0  \n",
       "2        113931.57       1  \n",
       "3         93826.63       0  \n",
       "4         79084.10       0  "
      ]
     },
     "execution_count": 8,
     "metadata": {},
     "output_type": "execute_result"
    }
   ],
   "source": [
    "df.head(5)"
   ]
  },
  {
   "cell_type": "code",
   "execution_count": 9,
   "metadata": {},
   "outputs": [],
   "source": [
    "# Q2. Drop the columns which are unique for all users like IDs\n",
    "# Q3. Distinguish the feature and target set"
   ]
  },
  {
   "cell_type": "code",
   "execution_count": 10,
   "metadata": {},
   "outputs": [],
   "source": [
    "x = df.iloc[:, 3:-1].values\n",
    "y = df.iloc[:, -1].values"
   ]
  },
  {
   "cell_type": "code",
   "execution_count": 11,
   "metadata": {},
   "outputs": [
    {
     "data": {
      "text/plain": [
       "array([[619, 'France', 'Female', ..., 1, 1, 101348.88],\n",
       "       [608, 'Spain', 'Female', ..., 0, 1, 112542.58],\n",
       "       [502, 'France', 'Female', ..., 1, 0, 113931.57],\n",
       "       ...,\n",
       "       [709, 'France', 'Female', ..., 0, 1, 42085.58],\n",
       "       [772, 'Germany', 'Male', ..., 1, 0, 92888.52],\n",
       "       [792, 'France', 'Female', ..., 1, 0, 38190.78]], dtype=object)"
      ]
     },
     "execution_count": 11,
     "metadata": {},
     "output_type": "execute_result"
    }
   ],
   "source": [
    "x"
   ]
  },
  {
   "cell_type": "code",
   "execution_count": 12,
   "metadata": {},
   "outputs": [
    {
     "data": {
      "text/plain": [
       "array([1, 0, 1, ..., 1, 1, 0], dtype=int64)"
      ]
     },
     "execution_count": 12,
     "metadata": {},
     "output_type": "execute_result"
    }
   ],
   "source": [
    "y"
   ]
  },
  {
   "cell_type": "code",
   "execution_count": 13,
   "metadata": {},
   "outputs": [],
   "source": [
    "# x is the feature set and y is the target set."
   ]
  },
  {
   "cell_type": "code",
   "execution_count": 14,
   "metadata": {},
   "outputs": [],
   "source": [
    "# Encoding the Categorical Data"
   ]
  },
  {
   "cell_type": "code",
   "execution_count": 15,
   "metadata": {},
   "outputs": [],
   "source": [
    "# Encoding Gender column"
   ]
  },
  {
   "cell_type": "code",
   "execution_count": 16,
   "metadata": {},
   "outputs": [],
   "source": [
    "from sklearn.preprocessing import LabelEncoder\n",
    "\n",
    "le = LabelEncoder()\n",
    "x[:, 2] = le.fit_transform(x[:, 2])\n"
   ]
  },
  {
   "cell_type": "code",
   "execution_count": 17,
   "metadata": {},
   "outputs": [
    {
     "data": {
      "text/plain": [
       "array([[619, 'France', 0, ..., 1, 1, 101348.88],\n",
       "       [608, 'Spain', 0, ..., 0, 1, 112542.58],\n",
       "       [502, 'France', 0, ..., 1, 0, 113931.57],\n",
       "       ...,\n",
       "       [709, 'France', 0, ..., 0, 1, 42085.58],\n",
       "       [772, 'Germany', 1, ..., 1, 0, 92888.52],\n",
       "       [792, 'France', 0, ..., 1, 0, 38190.78]], dtype=object)"
      ]
     },
     "execution_count": 17,
     "metadata": {},
     "output_type": "execute_result"
    }
   ],
   "source": [
    "x"
   ]
  },
  {
   "cell_type": "code",
   "execution_count": 18,
   "metadata": {},
   "outputs": [],
   "source": [
    "# One hot coding Geography column"
   ]
  },
  {
   "cell_type": "code",
   "execution_count": 19,
   "metadata": {},
   "outputs": [],
   "source": [
    "from sklearn.compose import ColumnTransformer\n",
    "from sklearn.preprocessing import OneHotEncoder\n",
    "\n",
    "ct = ColumnTransformer(transformers = [('encoder', OneHotEncoder(), [1])], remainder = 'passthrough')\n",
    "x = np.array(ct.fit_transform(x))"
   ]
  },
  {
   "cell_type": "code",
   "execution_count": 20,
   "metadata": {},
   "outputs": [
    {
     "data": {
      "text/plain": [
       "array([[1.0, 0.0, 0.0, ..., 1, 1, 101348.88],\n",
       "       [0.0, 0.0, 1.0, ..., 0, 1, 112542.58],\n",
       "       [1.0, 0.0, 0.0, ..., 1, 0, 113931.57],\n",
       "       ...,\n",
       "       [1.0, 0.0, 0.0, ..., 0, 1, 42085.58],\n",
       "       [0.0, 1.0, 0.0, ..., 1, 0, 92888.52],\n",
       "       [1.0, 0.0, 0.0, ..., 1, 0, 38190.78]], dtype=object)"
      ]
     },
     "execution_count": 20,
     "metadata": {},
     "output_type": "execute_result"
    }
   ],
   "source": [
    "x"
   ]
  },
  {
   "cell_type": "code",
   "execution_count": 21,
   "metadata": {},
   "outputs": [],
   "source": [
    "# Q4. Divide the data set into training and test sets"
   ]
  },
  {
   "cell_type": "code",
   "execution_count": 22,
   "metadata": {},
   "outputs": [],
   "source": [
    "from sklearn.model_selection import train_test_split\n",
    "\n",
    "x_train, x_test, y_train, y_test = train_test_split(x, y, test_size = 0.2, random_state = 0)"
   ]
  },
  {
   "cell_type": "code",
   "execution_count": 23,
   "metadata": {},
   "outputs": [],
   "source": [
    "# Q5. Normalize the train and test data"
   ]
  },
  {
   "cell_type": "code",
   "execution_count": 24,
   "metadata": {},
   "outputs": [],
   "source": [
    "from sklearn.preprocessing import StandardScaler\n",
    "sc = StandardScaler()\n",
    "x_train = sc.fit_transform(x_train)\n",
    "x_test = sc.transform(x_test)"
   ]
  },
  {
   "cell_type": "code",
   "execution_count": 25,
   "metadata": {},
   "outputs": [],
   "source": [
    "# Q6. Initialize & build the model."
   ]
  },
  {
   "cell_type": "code",
   "execution_count": 26,
   "metadata": {},
   "outputs": [],
   "source": [
    "# Adding the input layer and the first hidden layer"
   ]
  },
  {
   "cell_type": "code",
   "execution_count": 27,
   "metadata": {},
   "outputs": [],
   "source": [
    "from tensorflow.keras.models import Sequential\n",
    "\n",
    "ann = Sequential()"
   ]
  },
  {
   "cell_type": "code",
   "execution_count": 28,
   "metadata": {},
   "outputs": [],
   "source": [
    "from tensorflow.keras.layers import Dense\n",
    "ann.add(Dense(units = 6, activation = 'relu'))"
   ]
  },
  {
   "cell_type": "code",
   "execution_count": 29,
   "metadata": {},
   "outputs": [],
   "source": [
    "# Adding the second hidden layer"
   ]
  },
  {
   "cell_type": "code",
   "execution_count": 30,
   "metadata": {},
   "outputs": [],
   "source": [
    "ann.add(Dense(units = 6, activation = 'relu'))"
   ]
  },
  {
   "cell_type": "code",
   "execution_count": 31,
   "metadata": {},
   "outputs": [],
   "source": [
    "# Adding the output layer"
   ]
  },
  {
   "cell_type": "code",
   "execution_count": 32,
   "metadata": {},
   "outputs": [],
   "source": [
    "ann.add(Dense(units = 1, activation = 'sigmoid'))"
   ]
  },
  {
   "cell_type": "code",
   "execution_count": 33,
   "metadata": {},
   "outputs": [],
   "source": [
    "# Training the Model"
   ]
  },
  {
   "cell_type": "code",
   "execution_count": 34,
   "metadata": {},
   "outputs": [],
   "source": [
    "ann.compile(optimizer = 'Adam', loss = 'binary_crossentropy', metrics = ['accuracy'])"
   ]
  },
  {
   "cell_type": "code",
   "execution_count": 35,
   "metadata": {},
   "outputs": [
    {
     "name": "stdout",
     "output_type": "stream",
     "text": [
      "Train on 8000 samples\n",
      "Epoch 1/100\n",
      "8000/8000 [==============================] - 1s 156us/sample - loss: 0.5375 - accuracy: 0.7855\n",
      "Epoch 2/100\n",
      "8000/8000 [==============================] - 0s 62us/sample - loss: 0.4679 - accuracy: 0.7959\n",
      "Epoch 3/100\n",
      "8000/8000 [==============================] - 1s 67us/sample - loss: 0.4466 - accuracy: 0.7977\n",
      "Epoch 4/100\n",
      "8000/8000 [==============================] - 1s 69us/sample - loss: 0.4366 - accuracy: 0.8027\n",
      "Epoch 5/100\n",
      "8000/8000 [==============================] - 1s 68us/sample - loss: 0.4308 - accuracy: 0.8104\n",
      "Epoch 6/100\n",
      "8000/8000 [==============================] - 0s 60us/sample - loss: 0.4258 - accuracy: 0.8108\n",
      "Epoch 7/100\n",
      "8000/8000 [==============================] - 0s 62us/sample - loss: 0.4225 - accuracy: 0.8140\n",
      "Epoch 8/100\n",
      "8000/8000 [==============================] - 1s 69us/sample - loss: 0.4194 - accuracy: 0.8155\n",
      "Epoch 9/100\n",
      "8000/8000 [==============================] - 0s 59us/sample - loss: 0.4168 - accuracy: 0.8202\n",
      "Epoch 10/100\n",
      "8000/8000 [==============================] - 0s 60us/sample - loss: 0.4142 - accuracy: 0.8204\n",
      "Epoch 11/100\n",
      "8000/8000 [==============================] - 0s 56us/sample - loss: 0.4117 - accuracy: 0.8221\n",
      "Epoch 12/100\n",
      "8000/8000 [==============================] - 0s 58us/sample - loss: 0.4096 - accuracy: 0.8215\n",
      "Epoch 13/100\n",
      "8000/8000 [==============================] - 0s 58us/sample - loss: 0.4074 - accuracy: 0.8225\n",
      "Epoch 14/100\n",
      "8000/8000 [==============================] - 0s 60us/sample - loss: 0.4051 - accuracy: 0.8249\n",
      "Epoch 15/100\n",
      "8000/8000 [==============================] - 0s 62us/sample - loss: 0.4030 - accuracy: 0.8250\n",
      "Epoch 16/100\n",
      "8000/8000 [==============================] - 1s 65us/sample - loss: 0.4012 - accuracy: 0.8244\n",
      "Epoch 17/100\n",
      "8000/8000 [==============================] - 0s 62us/sample - loss: 0.3994 - accuracy: 0.8244\n",
      "Epoch 18/100\n",
      "8000/8000 [==============================] - 1s 90us/sample - loss: 0.3983 - accuracy: 0.8276\n",
      "Epoch 19/100\n",
      "8000/8000 [==============================] - 1s 74us/sample - loss: 0.3961 - accuracy: 0.8288\n",
      "Epoch 20/100\n",
      "8000/8000 [==============================] - 1s 70us/sample - loss: 0.3943 - accuracy: 0.8314\n",
      "Epoch 21/100\n",
      "8000/8000 [==============================] - ETA: 0s - loss: 0.3927 - accuracy: 0.83 - 1s 72us/sample - loss: 0.3919 - accuracy: 0.8330\n",
      "Epoch 22/100\n",
      "8000/8000 [==============================] - 0s 58us/sample - loss: 0.3898 - accuracy: 0.8350\n",
      "Epoch 23/100\n",
      "8000/8000 [==============================] - 0s 58us/sample - loss: 0.3867 - accuracy: 0.8366\n",
      "Epoch 24/100\n",
      "8000/8000 [==============================] - 1s 65us/sample - loss: 0.3824 - accuracy: 0.8380\n",
      "Epoch 25/100\n",
      "8000/8000 [==============================] - 1s 65us/sample - loss: 0.3754 - accuracy: 0.8418\n",
      "Epoch 26/100\n",
      "8000/8000 [==============================] - 0s 60us/sample - loss: 0.3666 - accuracy: 0.8474\n",
      "Epoch 27/100\n",
      "8000/8000 [==============================] - 0s 60us/sample - loss: 0.3591 - accuracy: 0.8525\n",
      "Epoch 28/100\n",
      "8000/8000 [==============================] - 1s 64us/sample - loss: 0.3530 - accuracy: 0.8575\n",
      "Epoch 29/100\n",
      "8000/8000 [==============================] - 1s 63us/sample - loss: 0.3490 - accuracy: 0.8591\n",
      "Epoch 30/100\n",
      "8000/8000 [==============================] - 0s 60us/sample - loss: 0.3462 - accuracy: 0.8606\n",
      "Epoch 31/100\n",
      "8000/8000 [==============================] - 0s 59us/sample - loss: 0.3442 - accuracy: 0.8611\n",
      "Epoch 32/100\n",
      "8000/8000 [==============================] - 1s 64us/sample - loss: 0.3428 - accuracy: 0.8616\n",
      "Epoch 33/100\n",
      "8000/8000 [==============================] - 1s 77us/sample - loss: 0.3418 - accuracy: 0.8621\n",
      "Epoch 34/100\n",
      "8000/8000 [==============================] - 0s 61us/sample - loss: 0.3411 - accuracy: 0.8611\n",
      "Epoch 35/100\n",
      "8000/8000 [==============================] - 0s 59us/sample - loss: 0.3404 - accuracy: 0.8624\n",
      "Epoch 36/100\n",
      "8000/8000 [==============================] - 0s 60us/sample - loss: 0.3397 - accuracy: 0.8618\n",
      "Epoch 37/100\n",
      "8000/8000 [==============================] - 0s 58us/sample - loss: 0.3395 - accuracy: 0.8630\n",
      "Epoch 38/100\n",
      "8000/8000 [==============================] - 0s 58us/sample - loss: 0.3385 - accuracy: 0.8629\n",
      "Epoch 39/100\n",
      "8000/8000 [==============================] - 0s 60us/sample - loss: 0.3386 - accuracy: 0.8625\n",
      "Epoch 40/100\n",
      "8000/8000 [==============================] - 0s 59us/sample - loss: 0.3378 - accuracy: 0.8610\n",
      "Epoch 41/100\n",
      "8000/8000 [==============================] - 0s 58us/sample - loss: 0.3379 - accuracy: 0.8625\n",
      "Epoch 42/100\n",
      "8000/8000 [==============================] - 0s 58us/sample - loss: 0.3375 - accuracy: 0.8620\n",
      "Epoch 43/100\n",
      "8000/8000 [==============================] - 0s 60us/sample - loss: 0.3373 - accuracy: 0.8637\n",
      "Epoch 44/100\n",
      "8000/8000 [==============================] - 0s 60us/sample - loss: 0.3373 - accuracy: 0.8625\n",
      "Epoch 45/100\n",
      "8000/8000 [==============================] - 0s 59us/sample - loss: 0.3369 - accuracy: 0.8620\n",
      "Epoch 46/100\n",
      "8000/8000 [==============================] - 0s 60us/sample - loss: 0.3363 - accuracy: 0.8612\n",
      "Epoch 47/100\n",
      "8000/8000 [==============================] - 1s 65us/sample - loss: 0.3364 - accuracy: 0.8631\n",
      "Epoch 48/100\n",
      "8000/8000 [==============================] - 1s 63us/sample - loss: 0.3366 - accuracy: 0.8621\n",
      "Epoch 49/100\n",
      "8000/8000 [==============================] - 1s 81us/sample - loss: 0.3361 - accuracy: 0.8615\n",
      "Epoch 50/100\n",
      "8000/8000 [==============================] - 1s 74us/sample - loss: 0.3364 - accuracy: 0.8635\n",
      "Epoch 51/100\n",
      "8000/8000 [==============================] - 1s 73us/sample - loss: 0.3358 - accuracy: 0.8640\n",
      "Epoch 52/100\n",
      "8000/8000 [==============================] - 1s 66us/sample - loss: 0.3359 - accuracy: 0.8629\n",
      "Epoch 53/100\n",
      "8000/8000 [==============================] - 1s 64us/sample - loss: 0.3357 - accuracy: 0.8626\n",
      "Epoch 54/100\n",
      "8000/8000 [==============================] - 0s 54us/sample - loss: 0.3362 - accuracy: 0.8620\n",
      "Epoch 55/100\n",
      "8000/8000 [==============================] - 0s 58us/sample - loss: 0.3353 - accuracy: 0.8626\n",
      "Epoch 56/100\n",
      "8000/8000 [==============================] - 0s 57us/sample - loss: 0.3352 - accuracy: 0.8627\n",
      "Epoch 57/100\n",
      "8000/8000 [==============================] - 0s 58us/sample - loss: 0.3351 - accuracy: 0.8624\n",
      "Epoch 58/100\n",
      "8000/8000 [==============================] - 0s 59us/sample - loss: 0.3348 - accuracy: 0.8630\n",
      "Epoch 59/100\n",
      "8000/8000 [==============================] - ETA: 0s - loss: 0.3346 - accuracy: 0.86 - 1s 74us/sample - loss: 0.3350 - accuracy: 0.8622\n",
      "Epoch 60/100\n",
      "8000/8000 [==============================] - 0s 62us/sample - loss: 0.3347 - accuracy: 0.8626\n",
      "Epoch 61/100\n",
      "8000/8000 [==============================] - 0s 60us/sample - loss: 0.3347 - accuracy: 0.8629\n",
      "Epoch 62/100\n",
      "8000/8000 [==============================] - 0s 59us/sample - loss: 0.3349 - accuracy: 0.8640\n",
      "Epoch 63/100\n",
      "8000/8000 [==============================] - 1s 64us/sample - loss: 0.3343 - accuracy: 0.8629\n",
      "Epoch 64/100\n",
      "8000/8000 [==============================] - 1s 69us/sample - loss: 0.3344 - accuracy: 0.8622\n",
      "Epoch 65/100\n",
      "8000/8000 [==============================] - 1s 66us/sample - loss: 0.3341 - accuracy: 0.8626\n",
      "Epoch 66/100\n",
      "8000/8000 [==============================] - 1s 64us/sample - loss: 0.3347 - accuracy: 0.8621\n",
      "Epoch 67/100\n",
      "8000/8000 [==============================] - 0s 60us/sample - loss: 0.3341 - accuracy: 0.8631\n",
      "Epoch 68/100\n",
      "8000/8000 [==============================] - 0s 61us/sample - loss: 0.3343 - accuracy: 0.8625\n",
      "Epoch 69/100\n",
      "8000/8000 [==============================] - 0s 61us/sample - loss: 0.3339 - accuracy: 0.8633\n",
      "Epoch 70/100\n",
      "8000/8000 [==============================] - 0s 60us/sample - loss: 0.3342 - accuracy: 0.8626\n",
      "Epoch 71/100\n",
      "8000/8000 [==============================] - 1s 67us/sample - loss: 0.3339 - accuracy: 0.8626\n",
      "Epoch 72/100\n",
      "8000/8000 [==============================] - 1s 69us/sample - loss: 0.3337 - accuracy: 0.8622\n",
      "Epoch 73/100\n",
      "8000/8000 [==============================] - 1s 74us/sample - loss: 0.3335 - accuracy: 0.8649\n",
      "Epoch 74/100\n",
      "8000/8000 [==============================] - 0s 62us/sample - loss: 0.3339 - accuracy: 0.8625\n",
      "Epoch 75/100\n",
      "8000/8000 [==============================] - 1s 65us/sample - loss: 0.3333 - accuracy: 0.8637\n",
      "Epoch 76/100\n"
     ]
    },
    {
     "name": "stdout",
     "output_type": "stream",
     "text": [
      "8000/8000 [==============================] - 0s 61us/sample - loss: 0.3338 - accuracy: 0.8635\n",
      "Epoch 77/100\n",
      "8000/8000 [==============================] - 0s 58us/sample - loss: 0.3334 - accuracy: 0.8629\n",
      "Epoch 78/100\n",
      "8000/8000 [==============================] - 0s 58us/sample - loss: 0.3335 - accuracy: 0.8630\n",
      "Epoch 79/100\n",
      "8000/8000 [==============================] - 0s 56us/sample - loss: 0.3336 - accuracy: 0.8625\n",
      "Epoch 80/100\n",
      "8000/8000 [==============================] - 0s 60us/sample - loss: 0.3333 - accuracy: 0.8636\n",
      "Epoch 81/100\n",
      "8000/8000 [==============================] - 1s 74us/sample - loss: 0.3332 - accuracy: 0.8643\n",
      "Epoch 82/100\n",
      "8000/8000 [==============================] - 1s 76us/sample - loss: 0.3334 - accuracy: 0.8634\n",
      "Epoch 83/100\n",
      "8000/8000 [==============================] - 1s 66us/sample - loss: 0.3335 - accuracy: 0.8630\n",
      "Epoch 84/100\n",
      "8000/8000 [==============================] - 1s 69us/sample - loss: 0.3332 - accuracy: 0.8636\n",
      "Epoch 85/100\n",
      "8000/8000 [==============================] - 0s 60us/sample - loss: 0.3332 - accuracy: 0.8619\n",
      "Epoch 86/100\n",
      "8000/8000 [==============================] - 0s 60us/sample - loss: 0.3329 - accuracy: 0.8634\n",
      "Epoch 87/100\n",
      "8000/8000 [==============================] - 1s 69us/sample - loss: 0.3332 - accuracy: 0.8636\n",
      "Epoch 88/100\n",
      "8000/8000 [==============================] - 0s 62us/sample - loss: 0.3326 - accuracy: 0.8634\n",
      "Epoch 89/100\n",
      "8000/8000 [==============================] - 0s 60us/sample - loss: 0.3332 - accuracy: 0.8634\n",
      "Epoch 90/100\n",
      "8000/8000 [==============================] - 1s 67us/sample - loss: 0.3333 - accuracy: 0.8622\n",
      "Epoch 91/100\n",
      "8000/8000 [==============================] - 0s 61us/sample - loss: 0.3328 - accuracy: 0.8619\n",
      "Epoch 92/100\n",
      "8000/8000 [==============================] - 0s 60us/sample - loss: 0.3331 - accuracy: 0.8635\n",
      "Epoch 93/100\n",
      "8000/8000 [==============================] - 0s 58us/sample - loss: 0.3325 - accuracy: 0.8631\n",
      "Epoch 94/100\n",
      "8000/8000 [==============================] - 0s 58us/sample - loss: 0.3332 - accuracy: 0.8624\n",
      "Epoch 95/100\n",
      "8000/8000 [==============================] - 0s 59us/sample - loss: 0.3328 - accuracy: 0.8626\n",
      "Epoch 96/100\n",
      "8000/8000 [==============================] - 0s 59us/sample - loss: 0.3331 - accuracy: 0.8636\n",
      "Epoch 97/100\n",
      "8000/8000 [==============================] - 1s 64us/sample - loss: 0.3329 - accuracy: 0.8640\n",
      "Epoch 98/100\n",
      "8000/8000 [==============================] - 0s 61us/sample - loss: 0.3326 - accuracy: 0.8627\n",
      "Epoch 99/100\n",
      "8000/8000 [==============================] - 0s 61us/sample - loss: 0.3323 - accuracy: 0.8641\n",
      "Epoch 100/100\n",
      "8000/8000 [==============================] - 1s 66us/sample - loss: 0.3325 - accuracy: 0.8637\n"
     ]
    },
    {
     "data": {
      "text/plain": [
       "<tensorflow.python.keras.callbacks.History at 0x220cf2168c8>"
      ]
     },
     "execution_count": 35,
     "metadata": {},
     "output_type": "execute_result"
    }
   ],
   "source": [
    "ann.fit(x_train, y_train, batch_size = 32, epochs = 100)"
   ]
  },
  {
   "cell_type": "code",
   "execution_count": 36,
   "metadata": {},
   "outputs": [],
   "source": [
    "# Q7. Predict the results"
   ]
  },
  {
   "cell_type": "code",
   "execution_count": 37,
   "metadata": {},
   "outputs": [
    {
     "name": "stdout",
     "output_type": "stream",
     "text": [
      "[[0 0]\n",
      " [0 1]\n",
      " [0 0]\n",
      " ...\n",
      " [0 0]\n",
      " [0 0]\n",
      " [0 0]]\n"
     ]
    }
   ],
   "source": [
    "y_pred = ann.predict(x_test)\n",
    "y_pred = (y_pred > 0.5)\n",
    "print(np.concatenate((y_pred.reshape(len(y_pred), 1), y_test.reshape(len(y_test), 1)), axis = 1))"
   ]
  },
  {
   "cell_type": "code",
   "execution_count": 38,
   "metadata": {},
   "outputs": [],
   "source": [
    "# Lets see how the model works. Given the below parameters, lets see how the model predicts.\n",
    "\n",
    "# Geography - Germany\n",
    "\n",
    "# Credit Score: 600\n",
    "\n",
    "# Gender: Female\n",
    "\n",
    "# Age: 50 years old\n",
    "\n",
    "# Tenure: 1 years\n",
    "\n",
    "# Balance: $ 6000\n",
    "\n",
    "# Number of Products: 2\n",
    "\n",
    "# Does this costumer have a credit card? Yes\n",
    "\n",
    "# Is this costumer an Active Member?Yes\n",
    "\n",
    "# Estimated Salary: $ 5000"
   ]
  },
  {
   "cell_type": "code",
   "execution_count": 39,
   "metadata": {},
   "outputs": [
    {
     "data": {
      "text/plain": [
       "array([[0.14250125]], dtype=float32)"
      ]
     },
     "execution_count": 39,
     "metadata": {},
     "output_type": "execute_result"
    }
   ],
   "source": [
    "ann.predict(sc.transform([[0, 0, 1, 600, 0, 50, 1, 6000, 2, 1, 1, 5000]]))"
   ]
  },
  {
   "cell_type": "code",
   "execution_count": 42,
   "metadata": {},
   "outputs": [
    {
     "data": {
      "text/plain": [
       "array([[False]])"
      ]
     },
     "execution_count": 42,
     "metadata": {},
     "output_type": "execute_result"
    }
   ],
   "source": [
    "#As we see above, the outcome is in the form of probability, we change the above probability to the real output \"1\" or \"0\" by \" > 0.5\"! (as the threshold probability) \n",
    "\n",
    "ann.predict(sc.transform([[1, 0, 0, 600, 1, 40, 3, 60000, 2, 1, 1, 50000]])) > 0.5"
   ]
  },
  {
   "cell_type": "code",
   "execution_count": 43,
   "metadata": {},
   "outputs": [],
   "source": [
    "# The model predicts that the customer will not churn and stay with the bank."
   ]
  },
  {
   "cell_type": "code",
   "execution_count": 44,
   "metadata": {},
   "outputs": [],
   "source": [
    "#Q8. Print the Accuracy score and confusion matrix"
   ]
  },
  {
   "cell_type": "code",
   "execution_count": 45,
   "metadata": {},
   "outputs": [
    {
     "name": "stdout",
     "output_type": "stream",
     "text": [
      "Confusion Matrix\n",
      "[[1523   72]\n",
      " [ 205  200]]\n",
      "The Accuracy Score of the model is\n",
      "0.8615\n"
     ]
    }
   ],
   "source": [
    "from sklearn.metrics import accuracy_score, confusion_matrix\n",
    "\n",
    "cm = confusion_matrix(y_test, y_pred)\n",
    "ac = accuracy_score(y_test, y_pred)\n",
    "print(\"Confusion Matrix\")\n",
    "print(cm)\n",
    "\n",
    "print(\"The Accuracy Score of the model is\")\n",
    "print(ac)"
   ]
  },
  {
   "cell_type": "code",
   "execution_count": null,
   "metadata": {},
   "outputs": [],
   "source": []
  }
 ],
 "metadata": {
  "kernelspec": {
   "display_name": "Python 3",
   "language": "python",
   "name": "python3"
  },
  "language_info": {
   "codemirror_mode": {
    "name": "ipython",
    "version": 3
   },
   "file_extension": ".py",
   "mimetype": "text/x-python",
   "name": "python",
   "nbconvert_exporter": "python",
   "pygments_lexer": "ipython3",
   "version": "3.7.9"
  }
 },
 "nbformat": 4,
 "nbformat_minor": 4
}
