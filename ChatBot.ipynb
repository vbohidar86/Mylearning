{
  "nbformat": 4,
  "nbformat_minor": 0,
  "metadata": {
    "colab": {
      "name": "ChatBot.ipynb",
      "provenance": [],
      "collapsed_sections": []
    },
    "kernelspec": {
      "name": "python3",
      "display_name": "Python 3"
    },
    "language_info": {
      "name": "python"
    }
  },
  "cells": [
    {
      "cell_type": "code",
      "metadata": {
        "colab": {
          "base_uri": "https://localhost:8080/"
        },
        "id": "5Bn2Zh8La7_h",
        "outputId": "3f9616c9-0a8a-4de8-8526-b514b538f8ff"
      },
      "source": [
        "from google.colab import drive\n",
        "drive.mount('/content/drive')"
      ],
      "execution_count": 61,
      "outputs": [
        {
          "output_type": "stream",
          "text": [
            "Drive already mounted at /content/drive; to attempt to forcibly remount, call drive.mount(\"/content/drive\", force_remount=True).\n"
          ],
          "name": "stdout"
        }
      ]
    },
    {
      "cell_type": "code",
      "metadata": {
        "colab": {
          "base_uri": "https://localhost:8080/"
        },
        "id": "EWC2S-I6bfuP",
        "outputId": "0f28eb97-9305-4ba5-ffc7-5ca6032b79aa"
      },
      "source": [
        "import json\n",
        "import string\n",
        "import random \n",
        "import nltk\n",
        "import numpy as np\n",
        "from nltk.stem import WordNetLemmatizer \n",
        "from nltk.stem.lancaster import LancasterStemmer\n",
        "stemmer = LancasterStemmer()\n",
        "import tensorflow as tf \n",
        "from tensorflow.keras import Sequential \n",
        "from tensorflow.keras.layers import Dense, Activation, Dropout\n",
        "nltk.download(\"punkt\")\n",
        "nltk.download(\"wordnet\")\n",
        "lemmatizer = WordNetLemmatizer()\n",
        "import pickle\n",
        "from tensorflow.keras.optimizers import SGD\n",
        "import random"
      ],
      "execution_count": 62,
      "outputs": [
        {
          "output_type": "stream",
          "text": [
            "[nltk_data] Downloading package punkt to /root/nltk_data...\n",
            "[nltk_data]   Package punkt is already up-to-date!\n",
            "[nltk_data] Downloading package wordnet to /root/nltk_data...\n",
            "[nltk_data]   Package wordnet is already up-to-date!\n"
          ],
          "name": "stdout"
        }
      ]
    },
    {
      "cell_type": "code",
      "metadata": {
        "colab": {
          "base_uri": "https://localhost:8080/"
        },
        "id": "0HvUIFjEb0OW",
        "outputId": "c598ce23-3ea0-4b39-f61f-55f59e5b301b"
      },
      "source": [
        "with open('/content/drive/My Drive/GL_Bot1.json') as file:\n",
        "    corpus = json.load(file)\n",
        "\n",
        "print(corpus)"
      ],
      "execution_count": 63,
      "outputs": [
        {
          "output_type": "stream",
          "text": [
            "{'intents': [{'tag': 'Intro', 'patterns': ['hi', 'how are you', 'is anyone there', 'hello', 'whats up', 'waasup', 'hey', 'yo', 'listen', 'please help me', 'i am learner from', 'i belong to', 'aiml batch', 'aifl batch', 'i am from', 'my pm is', 'blended', 'online', 'i am from', 'hey ya', 'talking to you for first time'], 'responses': ['Hello! how can i help you ?'], 'context_set': ''}, {'tag': 'Exit', 'patterns': ['thank you', 'thanks', 'cya', 'see you', 'later', 'see you later', 'goodbye', 'i am leaving', 'have a Good day', 'you helped me', 'thanks a lot', 'thanks a ton', 'you are the best', 'great help', 'too good', 'you are a good learning buddy'], 'responses': ['I hope I was able to assist you, Good Bye'], 'context_set': ''}, {'tag': 'Olympus', 'patterns': ['olympus', 'explain me how olympus works', 'I am not able to understand olympus', 'olympus window not working', 'no access to olympus', 'unable to see link in olympus', 'no link visible on olympus', 'whom to contact for olympus', 'lot of problem with olympus', 'olypus is not a good tool', 'lot of problems with olympus', 'how to use olympus', 'teach me olympus'], 'responses': ['Link: Olympus wiki'], 'context_set': ''}, {'tag': 'SL', 'patterns': ['i am not able to understand svm', 'explain me how machine learning works', 'i am not able to understand naive bayes', 'i am not able to understand logistic regression', 'i am not able to understand ensemble techb=niques', 'i am not able to understand knn', 'i am not able to understand knn imputer', 'i am not able to understand cross validation', 'i am not able to understand boosting', 'i am not able to understand random forest', 'i am not able to understand ada boosting', 'i am not able to understand gradient boosting', 'machine learning', 'ML', 'SL', 'supervised learning', 'knn', 'logistic regression', 'regression', 'classification', 'naive bayes', 'nb', 'ensemble techniques', 'bagging', 'boosting', 'ada boosting', 'ada', 'gradient boosting', 'hyper parameters'], 'responses': ['Link: Machine Learning wiki '], 'context_set': ''}, {'tag': 'NN', 'patterns': ['what is deep learning', 'unable to understand deep learning', 'explain me how deep learning works', 'i am not able to understand deep learning', 'not able to understand neural nets', 'very diffult to understand neural nets', 'unable to understand neural nets', 'ann', 'artificial intelligence', 'artificial neural networks', 'weights', 'activation function', 'hidden layers', 'softmax', 'sigmoid', 'relu', 'otimizer', 'forward propagation', 'backward propagation', 'epochs', 'epoch', 'what is an epoch', 'adam', 'sgd'], 'responses': ['Link: Neural Nets wiki'], 'context_set': ''}, {'tag': 'Bot', 'patterns': ['what is your name', 'who are you', 'name please', 'when are your hours of opertions', 'what are your working hours', 'hours of operation', 'working hours', 'hours'], 'responses': ['I am your virtual learning assistant'], 'context_set': ''}, {'tag': 'Profane', 'patterns': ['what the hell', 'bloody stupid bot', 'do you think you are very smart', 'screw you', 'i hate you', 'you are stupid', 'jerk', 'you are a joke', 'useless piece of shit'], 'responses': ['Please use respectful words'], 'context_set': ''}, {'tag': 'Ticket', 'patterns': ['my problem is not solved', 'you did not help me', 'not a good solution', 'bad solution', 'not good solution', 'no help', 'wasted my time', 'useless bot', 'create a ticket'], 'responses': ['Tarnsferring the request to your PM'], 'context_set': ''}]}\n"
          ],
          "name": "stdout"
        }
      ]
    },
    {
      "cell_type": "markdown",
      "metadata": {
        "id": "FcxpvLPyeC9B"
      },
      "source": [
        "## **Data Preprocessing**"
      ]
    },
    {
      "cell_type": "code",
      "metadata": {
        "id": "O1IZ-g3wchU7"
      },
      "source": [
        "#Extracting Data \n",
        "\n",
        "W = [] #Tokens\n",
        "L = [] #Tags or labels\n",
        "doc_x = [] #tokenized words\n",
        "doc_y = [] #tags of Labels\n",
        "\n",
        "for intent in corpus['intents']:\n",
        "  for pattern in intent['patterns']:\n",
        "    w_temp = nltk.word_tokenize(pattern)\n",
        "    W.extend(w_temp)\n",
        "    doc_x.append(w_temp)\n",
        "    doc_y.append(intent['tag'])\n",
        "\n",
        "    #if any tag missing \n",
        "    if intent['tag'] not in L:\n",
        "      L.append(intent['tag'])"
      ],
      "execution_count": 64,
      "outputs": []
    },
    {
      "cell_type": "markdown",
      "metadata": {
        "id": "Zo9HWMAEeQNt"
      },
      "source": [
        "Stemming"
      ]
    },
    {
      "cell_type": "code",
      "metadata": {
        "id": "wbTGgYAseKgI"
      },
      "source": [
        "W = [stemmer.stem(w.lower()) for w in W if w != \"?\" ]\n",
        "W = sorted(list(set(W)))\n",
        "L = sorted(L)"
      ],
      "execution_count": 65,
      "outputs": []
    },
    {
      "cell_type": "code",
      "metadata": {
        "colab": {
          "base_uri": "https://localhost:8080/"
        },
        "id": "EzQILytvfJDd",
        "outputId": "2445229c-8a88-4081-b1d6-62e4a82d535e"
      },
      "source": [
        "W"
      ],
      "execution_count": 66,
      "outputs": [
        {
          "output_type": "execute_result",
          "data": {
            "text/plain": [
              "['a',\n",
              " 'abl',\n",
              " 'access',\n",
              " 'act',\n",
              " 'ad',\n",
              " 'adam',\n",
              " 'aifl',\n",
              " 'aiml',\n",
              " 'am',\n",
              " 'an',\n",
              " 'anyon',\n",
              " 'ar',\n",
              " 'art',\n",
              " 'backward',\n",
              " 'bad',\n",
              " 'bag',\n",
              " 'batch',\n",
              " 'bay',\n",
              " 'belong',\n",
              " 'best',\n",
              " 'blend',\n",
              " 'bloody',\n",
              " 'boost',\n",
              " 'bot',\n",
              " 'buddy',\n",
              " 'class',\n",
              " 'contact',\n",
              " 'cre',\n",
              " 'cross',\n",
              " 'cya',\n",
              " 'day',\n",
              " 'deep',\n",
              " 'did',\n",
              " 'diffult',\n",
              " 'do',\n",
              " 'ensembl',\n",
              " 'epoch',\n",
              " 'explain',\n",
              " 'first',\n",
              " 'for',\n",
              " 'forest',\n",
              " 'forward',\n",
              " 'from',\n",
              " 'funct',\n",
              " 'good',\n",
              " 'goodby',\n",
              " 'grady',\n",
              " 'gre',\n",
              " 'hat',\n",
              " 'hav',\n",
              " 'hel',\n",
              " 'hello',\n",
              " 'help',\n",
              " 'hey',\n",
              " 'hi',\n",
              " 'hid',\n",
              " 'hour',\n",
              " 'how',\n",
              " 'hyp',\n",
              " 'i',\n",
              " 'imput',\n",
              " 'in',\n",
              " 'intellig',\n",
              " 'is',\n",
              " 'jerk',\n",
              " 'jok',\n",
              " 'knn',\n",
              " 'lat',\n",
              " 'lay',\n",
              " 'learn',\n",
              " 'leav',\n",
              " 'link',\n",
              " 'list',\n",
              " 'log',\n",
              " 'lot',\n",
              " 'machin',\n",
              " 'me',\n",
              " 'ml',\n",
              " 'my',\n",
              " 'naiv',\n",
              " 'nam',\n",
              " 'nb',\n",
              " 'net',\n",
              " 'network',\n",
              " 'neur',\n",
              " 'no',\n",
              " 'not',\n",
              " 'of',\n",
              " 'olymp',\n",
              " 'olyp',\n",
              " 'on',\n",
              " 'onlin',\n",
              " 'op',\n",
              " 'opert',\n",
              " 'otim',\n",
              " 'paramet',\n",
              " 'piec',\n",
              " 'pleas',\n",
              " 'pm',\n",
              " 'problem',\n",
              " 'prop',\n",
              " 'random',\n",
              " 'regress',\n",
              " 'relu',\n",
              " 'screw',\n",
              " 'see',\n",
              " 'sgd',\n",
              " 'shit',\n",
              " 'sigmoid',\n",
              " 'sl',\n",
              " 'smart',\n",
              " 'softmax',\n",
              " 'solv',\n",
              " 'stupid',\n",
              " 'superv',\n",
              " 'svm',\n",
              " 'talk',\n",
              " 'teach',\n",
              " 'techb=niques',\n",
              " 'techn',\n",
              " 'thank',\n",
              " 'the',\n",
              " 'ther',\n",
              " 'think',\n",
              " 'ticket',\n",
              " 'tim',\n",
              " 'to',\n",
              " 'ton',\n",
              " 'too',\n",
              " 'tool',\n",
              " 'un',\n",
              " 'understand',\n",
              " 'up',\n",
              " 'us',\n",
              " 'useless',\n",
              " 'valid',\n",
              " 'very',\n",
              " 'vis',\n",
              " 'waasup',\n",
              " 'wast',\n",
              " 'weight',\n",
              " 'what',\n",
              " 'when',\n",
              " 'who',\n",
              " 'whom',\n",
              " 'window',\n",
              " 'with',\n",
              " 'work',\n",
              " 'ya',\n",
              " 'yo',\n",
              " 'you']"
            ]
          },
          "metadata": {
            "tags": []
          },
          "execution_count": 66
        }
      ]
    },
    {
      "cell_type": "code",
      "metadata": {
        "colab": {
          "base_uri": "https://localhost:8080/"
        },
        "id": "447lPQ3Mfyc2",
        "outputId": "dc5b2745-4290-4788-f75c-8c9c8514075b"
      },
      "source": [
        "L "
      ],
      "execution_count": 67,
      "outputs": [
        {
          "output_type": "execute_result",
          "data": {
            "text/plain": [
              "['Bot', 'Exit', 'Intro', 'NN', 'Olympus', 'Profane', 'SL', 'Ticket']"
            ]
          },
          "metadata": {
            "tags": []
          },
          "execution_count": 67
        }
      ]
    },
    {
      "cell_type": "code",
      "metadata": {
        "id": "G3lWHkCTf1oA"
      },
      "source": [
        "Train = [] #train data for NN\n",
        "Target = [] # Target data for NN\n",
        "\n",
        "out_empty = [0 for _ in range(len(L))]"
      ],
      "execution_count": 68,
      "outputs": []
    },
    {
      "cell_type": "code",
      "metadata": {
        "id": "vc6r8-Y4gZiY"
      },
      "source": [
        "#Loop to created bag of words \n",
        "for x, doc in enumerate(doc_x):\n",
        "  bag = []\n",
        "  w_temp = [stemmer.stem(w.lower()) for w in doc]\n",
        "\n",
        "  for w in W:\n",
        "    if w in w_temp:\n",
        "      bag.append(1)\n",
        "    else:\n",
        "      bag.append(0)\n",
        "\n",
        "    output_row = out_empty[:]\n",
        "    output_row[L.index(doc_y[x])] = 1\n",
        "\n",
        "    Train.append(bag)\n",
        "    Target.append(output_row)\n"
      ],
      "execution_count": 69,
      "outputs": []
    },
    {
      "cell_type": "code",
      "metadata": {
        "id": "2WBz4ZcXhejd"
      },
      "source": [
        "Train = np.array(Train)\n",
        "Target = np.array(Target)"
      ],
      "execution_count": 70,
      "outputs": []
    },
    {
      "cell_type": "code",
      "metadata": {
        "colab": {
          "base_uri": "https://localhost:8080/"
        },
        "id": "2OH5efayhtCW",
        "outputId": "3a3ad568-1819-4af3-fbfc-74d58b075357"
      },
      "source": [
        "Train[:5]"
      ],
      "execution_count": 71,
      "outputs": [
        {
          "output_type": "execute_result",
          "data": {
            "text/plain": [
              "array([[0, 0, 0, 0, 0, 0, 0, 0, 0, 0, 0, 0, 0, 0, 0, 0, 0, 0, 0, 0, 0, 0,\n",
              "        0, 0, 0, 0, 0, 0, 0, 0, 0, 0, 0, 0, 0, 0, 0, 0, 0, 0, 0, 0, 0, 0,\n",
              "        0, 0, 0, 0, 0, 0, 0, 0, 0, 0, 1, 0, 0, 0, 0, 0, 0, 0, 0, 0, 0, 0,\n",
              "        0, 0, 0, 0, 0, 0, 0, 0, 0, 0, 0, 0, 0, 0, 0, 0, 0, 0, 0, 0, 0, 0,\n",
              "        0, 0, 0, 0, 0, 0, 0, 0, 0, 0, 0, 0, 0, 0, 0, 0, 0, 0, 0, 0, 0, 0,\n",
              "        0, 0, 0, 0, 0, 0, 0, 0, 0, 0, 0, 0, 0, 0, 0, 0, 0, 0, 0, 0, 0, 0,\n",
              "        0, 0, 0, 0, 0, 0, 0, 0, 0, 0, 0, 0, 0, 0, 0, 0, 0, 0, 0],\n",
              "       [0, 0, 0, 0, 0, 0, 0, 0, 0, 0, 0, 0, 0, 0, 0, 0, 0, 0, 0, 0, 0, 0,\n",
              "        0, 0, 0, 0, 0, 0, 0, 0, 0, 0, 0, 0, 0, 0, 0, 0, 0, 0, 0, 0, 0, 0,\n",
              "        0, 0, 0, 0, 0, 0, 0, 0, 0, 0, 1, 0, 0, 0, 0, 0, 0, 0, 0, 0, 0, 0,\n",
              "        0, 0, 0, 0, 0, 0, 0, 0, 0, 0, 0, 0, 0, 0, 0, 0, 0, 0, 0, 0, 0, 0,\n",
              "        0, 0, 0, 0, 0, 0, 0, 0, 0, 0, 0, 0, 0, 0, 0, 0, 0, 0, 0, 0, 0, 0,\n",
              "        0, 0, 0, 0, 0, 0, 0, 0, 0, 0, 0, 0, 0, 0, 0, 0, 0, 0, 0, 0, 0, 0,\n",
              "        0, 0, 0, 0, 0, 0, 0, 0, 0, 0, 0, 0, 0, 0, 0, 0, 0, 0, 0],\n",
              "       [0, 0, 0, 0, 0, 0, 0, 0, 0, 0, 0, 0, 0, 0, 0, 0, 0, 0, 0, 0, 0, 0,\n",
              "        0, 0, 0, 0, 0, 0, 0, 0, 0, 0, 0, 0, 0, 0, 0, 0, 0, 0, 0, 0, 0, 0,\n",
              "        0, 0, 0, 0, 0, 0, 0, 0, 0, 0, 1, 0, 0, 0, 0, 0, 0, 0, 0, 0, 0, 0,\n",
              "        0, 0, 0, 0, 0, 0, 0, 0, 0, 0, 0, 0, 0, 0, 0, 0, 0, 0, 0, 0, 0, 0,\n",
              "        0, 0, 0, 0, 0, 0, 0, 0, 0, 0, 0, 0, 0, 0, 0, 0, 0, 0, 0, 0, 0, 0,\n",
              "        0, 0, 0, 0, 0, 0, 0, 0, 0, 0, 0, 0, 0, 0, 0, 0, 0, 0, 0, 0, 0, 0,\n",
              "        0, 0, 0, 0, 0, 0, 0, 0, 0, 0, 0, 0, 0, 0, 0, 0, 0, 0, 0],\n",
              "       [0, 0, 0, 0, 0, 0, 0, 0, 0, 0, 0, 0, 0, 0, 0, 0, 0, 0, 0, 0, 0, 0,\n",
              "        0, 0, 0, 0, 0, 0, 0, 0, 0, 0, 0, 0, 0, 0, 0, 0, 0, 0, 0, 0, 0, 0,\n",
              "        0, 0, 0, 0, 0, 0, 0, 0, 0, 0, 1, 0, 0, 0, 0, 0, 0, 0, 0, 0, 0, 0,\n",
              "        0, 0, 0, 0, 0, 0, 0, 0, 0, 0, 0, 0, 0, 0, 0, 0, 0, 0, 0, 0, 0, 0,\n",
              "        0, 0, 0, 0, 0, 0, 0, 0, 0, 0, 0, 0, 0, 0, 0, 0, 0, 0, 0, 0, 0, 0,\n",
              "        0, 0, 0, 0, 0, 0, 0, 0, 0, 0, 0, 0, 0, 0, 0, 0, 0, 0, 0, 0, 0, 0,\n",
              "        0, 0, 0, 0, 0, 0, 0, 0, 0, 0, 0, 0, 0, 0, 0, 0, 0, 0, 0],\n",
              "       [0, 0, 0, 0, 0, 0, 0, 0, 0, 0, 0, 0, 0, 0, 0, 0, 0, 0, 0, 0, 0, 0,\n",
              "        0, 0, 0, 0, 0, 0, 0, 0, 0, 0, 0, 0, 0, 0, 0, 0, 0, 0, 0, 0, 0, 0,\n",
              "        0, 0, 0, 0, 0, 0, 0, 0, 0, 0, 1, 0, 0, 0, 0, 0, 0, 0, 0, 0, 0, 0,\n",
              "        0, 0, 0, 0, 0, 0, 0, 0, 0, 0, 0, 0, 0, 0, 0, 0, 0, 0, 0, 0, 0, 0,\n",
              "        0, 0, 0, 0, 0, 0, 0, 0, 0, 0, 0, 0, 0, 0, 0, 0, 0, 0, 0, 0, 0, 0,\n",
              "        0, 0, 0, 0, 0, 0, 0, 0, 0, 0, 0, 0, 0, 0, 0, 0, 0, 0, 0, 0, 0, 0,\n",
              "        0, 0, 0, 0, 0, 0, 0, 0, 0, 0, 0, 0, 0, 0, 0, 0, 0, 0, 0]])"
            ]
          },
          "metadata": {
            "tags": []
          },
          "execution_count": 71
        }
      ]
    },
    {
      "cell_type": "code",
      "metadata": {
        "colab": {
          "base_uri": "https://localhost:8080/"
        },
        "id": "SEJEath4l9RS",
        "outputId": "a654cd31-cb12-45f1-950a-6584121e9286"
      },
      "source": [
        "pip install tflearn"
      ],
      "execution_count": 53,
      "outputs": [
        {
          "output_type": "stream",
          "text": [
            "Requirement already satisfied: tflearn in /usr/local/lib/python3.7/dist-packages (0.5.0)\n",
            "Requirement already satisfied: six in /usr/local/lib/python3.7/dist-packages (from tflearn) (1.15.0)\n",
            "Requirement already satisfied: numpy in /usr/local/lib/python3.7/dist-packages (from tflearn) (1.19.5)\n",
            "Requirement already satisfied: Pillow in /usr/local/lib/python3.7/dist-packages (from tflearn) (7.1.2)\n"
          ],
          "name": "stdout"
        }
      ]
    },
    {
      "cell_type": "code",
      "metadata": {
        "id": "wAeS7Nshh0cs"
      },
      "source": [
        "import tflearn\n",
        "from tensorflow.python.framework import ops\n",
        "ops.reset_default_graph()\n",
        "\n",
        "FCNN = tflearn.input_data(shape=[None, len(Train[0])])\n",
        "FCNN = tflearn.fully_connected(FCNN, 8)\n",
        "FCNN = tflearn.fully_connected(FCNN, 8)\n",
        "FCNN = tflearn.fully_connected(FCNN, len(Target[0]), activation=\"softmax\")\n",
        "FCNN = tflearn.regression(FCNN)\n",
        "\n",
        "model = tflearn.DNN(FCNN)\n"
      ],
      "execution_count": 72,
      "outputs": []
    },
    {
      "cell_type": "code",
      "metadata": {
        "colab": {
          "base_uri": "https://localhost:8080/"
        },
        "id": "MczJC35djemw",
        "outputId": "ccc1469a-3f16-46c1-9f4a-08a977eeb212"
      },
      "source": [
        "model.fit(Train, Target, n_epoch=300, batch_size=1000, show_metric=True)\n",
        "model.save(\"model.tflearn\")"
      ],
      "execution_count": 73,
      "outputs": [
        {
          "output_type": "stream",
          "text": [
            "Training Step: 5999  | total loss: \u001b[1m\u001b[32m0.27892\u001b[0m\u001b[0m | time: 0.208s\n",
            "| Adam | epoch: 300 | loss: 0.27892 - acc: 0.9783 -- iter: 19000/19479\n",
            "Training Step: 6000  | total loss: \u001b[1m\u001b[32m0.25236\u001b[0m\u001b[0m | time: 0.225s\n",
            "| Adam | epoch: 300 | loss: 0.25236 - acc: 0.9805 -- iter: 19479/19479\n",
            "--\n",
            "INFO:tensorflow:/content/model.tflearn is not in all_model_checkpoint_paths. Manually adding it.\n"
          ],
          "name": "stdout"
        }
      ]
    },
    {
      "cell_type": "code",
      "metadata": {
        "id": "zyVVra8Em6M4"
      },
      "source": [
        "def bag_of_words(s, W):\n",
        "  bag = [0 for _ in range(len(W))]\n",
        "\n",
        "  s_words = nltk.word_tokenize(s)\n",
        "  s_words = [stemmer.stem(word.lower()) for word in s_words]\n",
        "\n",
        "  for se in s_words:\n",
        "    for i, w in enumerate(W):\n",
        "      if w == se:\n",
        "        bag[i]= 1\n",
        "  return np.array(bag)\n",
        "\n",
        "def chat():\n",
        "     print(\"Chat with GL_BOT (type: stop to quit)\")\n",
        "     print(\"if answer is not right (type: *)\")\n",
        "     while True: \n",
        "        inp = input(\"\\n\\nYou: \")\n",
        "        if inp.lower()==\"*\":\n",
        "          print(\"BOT: Please rephrase your question and try again\")\n",
        "        if inp.lower() == \"quit\" :\n",
        "          break\n",
        "\n",
        "        results = model.predict([bag_of_words(inp, W)])\n",
        "        results_index = np.argmax(results)\n",
        "        tag = L[results_index]\n",
        "\n",
        "        for tg in corpus['intents']:\n",
        "          if tg['tag'] == tag:\n",
        "            responses = tg['responses']\n",
        "\n",
        "        print(random.choice(responses))"
      ],
      "execution_count": 88,
      "outputs": []
    },
    {
      "cell_type": "code",
      "metadata": {
        "colab": {
          "base_uri": "https://localhost:8080/"
        },
        "id": "egGasKLvZ3ao",
        "outputId": "abf4be3b-6158-41e6-f817-f3dc02a42731"
      },
      "source": [
        "chat()"
      ],
      "execution_count": 80,
      "outputs": [
        {
          "output_type": "stream",
          "text": [
            "Chat with GL_BOT (type: stop to quit)\n",
            "if answer is not right (type: *)\n",
            "\n",
            "\n",
            "You: hello\n",
            "Hello! how can i help you ?\n",
            "\n",
            "\n",
            "You: what is deep learning\n",
            "Link: Neural Nets wiki\n",
            "\n",
            "\n",
            "You: jerk\n",
            "Please use respectful words\n",
            "\n",
            "\n",
            "You: goodbye\n",
            "I hope I was able to assist you, Good Bye\n",
            "\n",
            "\n",
            "You: *\n",
            "BOT: Please rephrase your question and try again\n",
            "Link: Machine Learning wiki \n",
            "\n",
            "\n",
            "You: SVM\n",
            "Link: Machine Learning wiki \n",
            "\n",
            "\n",
            "You: support vector \n",
            "Link: Machine Learning wiki \n",
            "\n",
            "\n",
            "You: what are you\n",
            "I am your virtual learning assistant\n",
            "\n",
            "\n",
            "You: dumb\n",
            "Link: Machine Learning wiki \n",
            "\n",
            "\n",
            "You: ok\n",
            "Link: Machine Learning wiki \n",
            "\n",
            "\n",
            "You: bye bye\n",
            "Link: Machine Learning wiki \n",
            "\n",
            "\n",
            "You: goodbye\n",
            "I hope I was able to assist you, Good Bye\n",
            "\n",
            "\n",
            "You: exit\n",
            "Link: Machine Learning wiki \n",
            "\n",
            "\n",
            "You: quit\n"
          ],
          "name": "stdout"
        }
      ]
    },
    {
      "cell_type": "code",
      "metadata": {
        "colab": {
          "base_uri": "https://localhost:8080/"
        },
        "id": "sd7BvEmkhmIb",
        "outputId": "5cfe9267-fb44-42ad-e480-ec43b7f93ac5"
      },
      "source": [
        "chat()"
      ],
      "execution_count": 89,
      "outputs": [
        {
          "output_type": "stream",
          "text": [
            "Chat with GL_BOT (type: stop to quit)\n",
            "if answer is not right (type: *)\n",
            "\n",
            "\n",
            "You: hello\n",
            "Hello! how can i help you ?\n",
            "\n",
            "\n",
            "You: what is your name\n",
            "I am your virtual learning assistant\n",
            "\n",
            "\n",
            "You: good\n",
            "I am your virtual learning assistant\n",
            "\n",
            "\n",
            "You: what is SVM\n",
            "Link: Machine Learning wiki \n",
            "\n",
            "\n",
            "You: where can i get help \n",
            "I am your virtual learning assistant\n",
            "\n",
            "\n",
            "You: i know but i need help \n",
            "I am your virtual learning assistant\n",
            "\n",
            "\n",
            "You: forget it \n",
            "Link: Machine Learning wiki \n",
            "\n",
            "\n",
            "You: transfer\n",
            "Link: Machine Learning wiki \n",
            "\n",
            "\n",
            "You: what the hell\n",
            "Please use respectful words\n",
            "\n",
            "\n",
            "You: get lost\n",
            "Link: Machine Learning wiki \n",
            "\n",
            "\n",
            "You: ok\n",
            "Link: Machine Learning wiki \n",
            "\n",
            "\n",
            "You: mentor\n",
            "Link: Machine Learning wiki \n",
            "\n",
            "\n",
            "You: what nonsence\n",
            "Link: Machine Learning wiki \n",
            "\n",
            "\n",
            "You: need a ticket\n",
            "Tarnsferring the request to your PM\n",
            "\n",
            "\n",
            "You: quit\n"
          ],
          "name": "stdout"
        }
      ]
    },
    {
      "cell_type": "code",
      "metadata": {
        "id": "UD83c7u1nX1o"
      },
      "source": [
        ""
      ],
      "execution_count": null,
      "outputs": []
    }
  ]
}