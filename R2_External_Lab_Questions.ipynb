{
 "cells": [
  {
   "cell_type": "markdown",
   "metadata": {
    "colab_type": "text",
    "id": "xx5CxeVubU3W"
   },
   "source": [
    "# Hypothesis Testing"
   ]
  },
  {
   "cell_type": "markdown",
   "metadata": {
    "colab_type": "text",
    "id": "6OR23eWKbU3X"
   },
   "source": [
    "The purpose of the test is to tell if there is any significant difference between two data sets.\n",
    "\n"
   ]
  },
  {
   "cell_type": "markdown",
   "metadata": {
    "colab_type": "text",
    "id": "604OoWnTbU3Z"
   },
   "source": [
    "## Overview"
   ]
  },
  {
   "cell_type": "markdown",
   "metadata": {
    "colab_type": "text",
    "id": "o-il1iBSbU3b"
   },
   "source": [
    "This module covers,\n",
    "\n",
    "1) One sample and Two sample t-tests\n",
    "\n",
    "2) ANOVA\n",
    "\n",
    "3) Type I and Type II errors\n",
    "\n",
    "4) Chi-Squared Tests"
   ]
  },
  {
   "cell_type": "markdown",
   "metadata": {
    "colab_type": "text",
    "id": "G2yYl5cvbU3c"
   },
   "source": [
    "## Question 1 \n",
    "\n",
    "*A student is trying to decide between two GPUs. He want to use the GPU for his research to run Deep learning algorithms, so the only thing he is concerned with is speed.*\n",
    "\n",
    "*He picks a Deep Learning algorithm on a large data set and runs it on both GPUs 15 times, timing each run in hours. Results are given in the below lists GPU1 and GPU2.*"
   ]
  },
  {
   "cell_type": "code",
   "execution_count": 2,
   "metadata": {
    "colab": {},
    "colab_type": "code",
    "id": "ohh5XJ4ZbU3d"
   },
   "outputs": [],
   "source": [
    "from scipy import stats \n",
    "import numpy as np"
   ]
  },
  {
   "cell_type": "code",
   "execution_count": 3,
   "metadata": {
    "colab": {},
    "colab_type": "code",
    "id": "6yGkYI6EbU3i"
   },
   "outputs": [],
   "source": [
    "GPU1 = np.array([11,9,10,11,10,12,9,11,12,9,11,12,9,10,9])\n",
    "GPU2 = np.array([11,13,10,13,12,9,11,12,12,11,12,12,10,11,13])\n",
    "\n",
    "#Assumption: Both the datasets (GPU1 & GPU 2) are random, independent, parametric & normally distributed"
   ]
  },
  {
   "cell_type": "markdown",
   "metadata": {
    "colab_type": "text",
    "id": "L55jqmIXbU3m"
   },
   "source": [
    "Hint: You can import ttest function from scipy to perform t tests "
   ]
  },
  {
   "cell_type": "markdown",
   "metadata": {
    "colab_type": "text",
    "id": "v8fsIhPFbU3n"
   },
   "source": [
    "**First T test**\n",
    "\n",
    "*One sample t-test*\n",
    "\n",
    "Check if the mean of the GPU1 is equal to zero.\n",
    "- Null Hypothesis is that mean is equal to zero.\n",
    "- Alternate hypothesis is that it is not equal to zero."
   ]
  },
  {
   "cell_type": "code",
   "execution_count": 4,
   "metadata": {
    "colab": {},
    "colab_type": "code",
    "id": "wgMSWwApbU3o"
   },
   "outputs": [
    {
     "data": {
      "text/plain": [
       "10.333333333333334"
      ]
     },
     "execution_count": 4,
     "metadata": {},
     "output_type": "execute_result"
    }
   ],
   "source": [
    "from scipy.stats import ttest_1samp\n",
    "GPU1.mean()"
   ]
  },
  {
   "cell_type": "code",
   "execution_count": 6,
   "metadata": {},
   "outputs": [
    {
     "name": "stdout",
     "output_type": "stream",
     "text": [
      "rejected null hypothesis\n"
     ]
    }
   ],
   "source": [
    "t_statistics, p_value=ttest_1samp(GPU1, 0)\n",
    "if p_value==1:\n",
    "    print('fail to reject null hypothesis')\n",
    "else:\n",
    "    print('rejected null hypothesis')"
   ]
  },
  {
   "cell_type": "markdown",
   "metadata": {
    "colab_type": "text",
    "id": "byu8iw46bU3v"
   },
   "source": [
    "## Question 2"
   ]
  },
  {
   "cell_type": "markdown",
   "metadata": {
    "colab_type": "text",
    "id": "E65pzWcJbU3w"
   },
   "source": [
    "Given,\n",
    "\n",
    "Null Hypothesis : There is no significant difference between data sets\n",
    "\n",
    "Alternate Hypothesis : There is a significant difference\n",
    "\n",
    "*Do two-sample testing and check whether to reject Null Hypothesis or not.*"
   ]
  },
  {
   "cell_type": "markdown",
   "metadata": {
    "colab_type": "text",
    "id": "N-zpWvyXbU32"
   },
   "source": [
    "https://docs.scipy.org/doc/scipy/reference/generated/scipy.stats.ttest_ind.html"
   ]
  },
  {
   "cell_type": "code",
   "execution_count": 7,
   "metadata": {
    "colab": {},
    "colab_type": "code",
    "id": "UDDkuOtObU3x"
   },
   "outputs": [
    {
     "data": {
      "text/plain": [
       "(-2.627629513471839, 0.013794282041452725)"
      ]
     },
     "execution_count": 7,
     "metadata": {},
     "output_type": "execute_result"
    }
   ],
   "source": [
    "from scipy.stats import ttest_ind\n",
    "t_statistics, p_value=ttest_ind(GPU1, GPU2)\n",
    "t_statistics, p_value"
   ]
  },
  {
   "cell_type": "code",
   "execution_count": 9,
   "metadata": {},
   "outputs": [
    {
     "name": "stdout",
     "output_type": "stream",
     "text": [
      "reject null hypothesis\n"
     ]
    }
   ],
   "source": [
    "if p_value<0.05:\n",
    "    print('reject null hypothesis')\n",
    "    \n",
    "else:\n",
    "    print('fail to reject null hypothesis')\n",
    "    "
   ]
  },
  {
   "cell_type": "markdown",
   "metadata": {
    "colab_type": "text",
    "id": "MbXv5aZvbU33"
   },
   "source": [
    "## Question 3\n",
    "\n",
    "He is trying a third GPU - GPU3."
   ]
  },
  {
   "cell_type": "code",
   "execution_count": 11,
   "metadata": {
    "colab": {},
    "colab_type": "code",
    "id": "kkh_sQl4bU34"
   },
   "outputs": [],
   "source": [
    "GPU3 = np.array([9,10,9,11,10,13,12,9,12,12,13,12,13,10,11])\n",
    "\n",
    "#Assumption: Both the datasets (GPU1 & GPU 3) are random, independent, parametric & normally distributed"
   ]
  },
  {
   "cell_type": "markdown",
   "metadata": {
    "colab_type": "text",
    "id": "WoYNz3g7bU37"
   },
   "source": [
    "*Do two-sample testing and check whether there is significant differene between speeds of two GPUs GPU1 and GPU3.*\n",
    "\n",
    "#### Answer:"
   ]
  },
  {
   "cell_type": "code",
   "execution_count": 14,
   "metadata": {
    "colab": {},
    "colab_type": "code",
    "id": "X4N11XArbU38"
   },
   "outputs": [
    {
     "data": {
      "text/plain": [
       "(-1.4988943759093303, 0.14509210993138993)"
      ]
     },
     "execution_count": 14,
     "metadata": {},
     "output_type": "execute_result"
    }
   ],
   "source": [
    "from scipy.stats import ttest_ind\n",
    "t_statistics, p_value=ttest_ind(GPU1, GPU3)\n",
    "t_statistics, p_value"
   ]
  },
  {
   "cell_type": "code",
   "execution_count": 24,
   "metadata": {},
   "outputs": [
    {
     "name": "stdout",
     "output_type": "stream",
     "text": [
      "there is significance difference\n"
     ]
    }
   ],
   "source": [
    "if p_value<0.05:\n",
    "    print('there is significance difference')\n",
    "else:\n",
    "    print('there is no significance difference')"
   ]
  },
  {
   "cell_type": "markdown",
   "metadata": {
    "colab_type": "text",
    "id": "yrMK1qb7bU4j"
   },
   "source": [
    "## Question 6\n",
    "\n",
    "*In one or two sentences explain about **TypeI** and **TypeII** errors.*\n",
    "\n",
    "#### Answer:"
   ]
  },
  {
   "cell_type": "markdown",
   "metadata": {
    "colab_type": "text",
    "id": "H08OGwdIbU4k"
   },
   "source": [
    "Type I error refers to non-acceptance of hypothesis which ought to be accepted. It is incorrect rejection of true null hypothesis.\n",
    "Type II error is the acceptance of hypothesis which ought to be rejected. It is incorrect acceptance of false null hypothesis."
   ]
  },
  {
   "cell_type": "markdown",
   "metadata": {
    "colab_type": "text",
    "id": "hm7v3pcIbU4m"
   },
   "source": [
    "## Question 7 \n",
    "\n",
    "You are a manager of a chinese restaurant. You want to determine whether the waiting time to place an order has changed in the past month from its previous population mean value of 4.5 minutes. \n",
    "State the null and alternative hypothesis.\n",
    "\n",
    "#### Answer:\n"
   ]
  },
  {
   "cell_type": "markdown",
   "metadata": {},
   "source": [
    "Null Hypothesis: The wait time has not changed.\n",
    "Alternate Hypothesis: The wait time has changed."
   ]
  },
  {
   "cell_type": "markdown",
   "metadata": {
    "colab_type": "text",
    "id": "1SGpq-dKbU4r"
   },
   "source": [
    "## Chi square test"
   ]
  },
  {
   "cell_type": "markdown",
   "metadata": {
    "colab_type": "text",
    "id": "WlxmIu_rdgpc"
   },
   "source": [
    "## Question 8"
   ]
  },
  {
   "cell_type": "markdown",
   "metadata": {
    "colab_type": "text",
    "id": "8J3V015PbU4s"
   },
   "source": [
    "Let's create a small dataset for dice rolls of four players"
   ]
  },
  {
   "cell_type": "code",
   "execution_count": 16,
   "metadata": {
    "colab": {},
    "colab_type": "code",
    "id": "xrO5BbIEbU4t"
   },
   "outputs": [],
   "source": [
    "import numpy as np\n",
    "\n",
    "d1 = [5, 8, 3, 8]\n",
    "d2 = [9, 6, 8, 5]\n",
    "d3 = [8, 12, 7, 2]\n",
    "d4 = [4, 16, 7, 3]\n",
    "d5 = [3, 9, 6, 5]\n",
    "d6 = [7, 2, 5, 7]\n",
    "\n",
    "dice = np.array([d1, d2, d3, d4, d5, d6])"
   ]
  },
  {
   "cell_type": "markdown",
   "metadata": {
    "colab_type": "text",
    "id": "uF7GRMChbU4x"
   },
   "source": [
    "run the test using SciPy Stats library\n",
    "\n",
    "Depending on the test, we are generally looking for a threshold at either 0.05 or 0.01. Our test is significant (i.e. we reject the null hypothesis) if we get a p-value below our threshold.\n",
    "\n",
    "For our purposes, we’ll use 0.01 as the threshold.\n",
    "\n",
    "use stats.chi2_contingency() module \n",
    "\n",
    "This function computes the chi-square statistic and p-value for the hypothesis test of independence of the observed frequencies in the contingency table\n",
    "\n",
    "Print the following:\n",
    "\n",
    "- chi2 stat\n",
    "- p-value\n",
    "- degree of freedom\n",
    "- contingency\n",
    "\n"
   ]
  },
  {
   "cell_type": "code",
   "execution_count": 17,
   "metadata": {
    "colab": {},
    "colab_type": "code",
    "id": "vqaTIKmgbU4y"
   },
   "outputs": [
    {
     "data": {
      "text/plain": [
       "(23.315671914716496,\n",
       " 0.07766367301496693,\n",
       " 15,\n",
       " array([[ 5.57419355,  8.20645161,  5.57419355,  4.64516129],\n",
       "        [ 6.50322581,  9.57419355,  6.50322581,  5.41935484],\n",
       "        [ 6.73548387,  9.91612903,  6.73548387,  5.61290323],\n",
       "        [ 6.96774194, 10.25806452,  6.96774194,  5.80645161],\n",
       "        [ 5.34193548,  7.86451613,  5.34193548,  4.4516129 ],\n",
       "        [ 4.87741935,  7.18064516,  4.87741935,  4.06451613]]))"
      ]
     },
     "execution_count": 17,
     "metadata": {},
     "output_type": "execute_result"
    }
   ],
   "source": [
    "from scipy.stats import chi2_contingency\n",
    "chi2_stats, p_value,dof, exp= chi2_contingency(dice)\n",
    "chi2_stats, p_value, dof, exp"
   ]
  },
  {
   "cell_type": "markdown",
   "metadata": {
    "colab_type": "text",
    "id": "VzyfaNoabU42"
   },
   "source": [
    "## Question 9\n",
    "\n",
    "### Z-test\n",
    "\n",
    "Get zscore on the above dice data using stats.zscore module from scipy. Convert zscore values to p-value and take mean of the array."
   ]
  },
  {
   "cell_type": "code",
   "execution_count": 18,
   "metadata": {
    "colab": {},
    "colab_type": "code",
    "id": "Sd5xPCuRbU43"
   },
   "outputs": [
    {
     "data": {
      "text/plain": [
       "array([[0.33630191, 0.43156417, 0.04676626, 0.90584366],\n",
       "       [0.89755305, 0.27889166, 0.86822376, 0.5       ],\n",
       "       [0.80098764, 0.74379655, 0.71192494, 0.09415634],\n",
       "       [0.19901236, 0.93090729, 0.71192494, 0.19022756],\n",
       "       [0.10244695, 0.51375227, 0.5       , 0.5       ],\n",
       "       [0.66369809, 0.07873601, 0.28807506, 0.80977244]])"
      ]
     },
     "execution_count": 18,
     "metadata": {},
     "output_type": "execute_result"
    }
   ],
   "source": [
    "from scipy.stats import zscore\n",
    "z_score=zscore(dice,axis=0,ddof=1)\n",
    "p_values=stats.norm.cdf(z_score)\n",
    "p_values"
   ]
  },
  {
   "cell_type": "code",
   "execution_count": 19,
   "metadata": {},
   "outputs": [
    {
     "data": {
      "text/plain": [
       "0.504356788179901"
      ]
     },
     "execution_count": 19,
     "metadata": {},
     "output_type": "execute_result"
    }
   ],
   "source": [
    "mean=p_values.mean()\n",
    "mean"
   ]
  },
  {
   "cell_type": "markdown",
   "metadata": {
    "colab_type": "text",
    "id": "OyoFUxf5bU47"
   },
   "source": [
    "## Question 10\n",
    "\n",
    "A Paired sample t-test compares means from the same group at different times.\n",
    "\n",
    "The basic two sample t-test is designed for testing differences between independent groups. \n",
    "In some cases, you might be interested in testing differences between samples of the same group at different points in time. \n",
    "We can conduct a paired t-test using the scipy function stats.ttest_rel(). "
   ]
  },
  {
   "cell_type": "code",
   "execution_count": 21,
   "metadata": {
    "colab": {},
    "colab_type": "code",
    "id": "SwVmQ1gRbU48"
   },
   "outputs": [],
   "source": [
    "before= stats.norm.rvs(scale=30, loc=100, size=500) ## Creates a normal distribution with a mean value of 100 and std of 30\n",
    "after = before + stats.norm.rvs(scale=5, loc=-1.25, size=500)"
   ]
  },
  {
   "cell_type": "markdown",
   "metadata": {
    "colab_type": "text",
    "id": "rB_os5FjbU4_"
   },
   "source": [
    "Test whether a weight-loss drug works by checking the weights of the same group patients before and after treatment using above data."
   ]
  },
  {
   "cell_type": "code",
   "execution_count": 22,
   "metadata": {
    "colab": {},
    "colab_type": "code",
    "id": "Fq2wyEqlbU5A"
   },
   "outputs": [],
   "source": [
    "from scipy.stats import ttest_rel\n",
    "tstats, p_value=ttest_rel(before, after)"
   ]
  },
  {
   "cell_type": "code",
   "execution_count": 23,
   "metadata": {},
   "outputs": [
    {
     "name": "stdout",
     "output_type": "stream",
     "text": [
      "Medicine worked\n"
     ]
    }
   ],
   "source": [
    "if p_value<0.05:\n",
    "    print('Medicine worked')\n",
    "else:\n",
    "        print('Medicine did not worked')"
   ]
  }
 ],
 "metadata": {
  "colab": {
   "collapsed_sections": [],
   "name": "R2_external-lab_hypothesis_testing_questions.ipynb",
   "provenance": [],
   "version": "0.3.2"
  },
  "kernelspec": {
   "display_name": "Python 3",
   "language": "python",
   "name": "python3"
  },
  "language_info": {
   "codemirror_mode": {
    "name": "ipython",
    "version": 3
   },
   "file_extension": ".py",
   "mimetype": "text/x-python",
   "name": "python",
   "nbconvert_exporter": "python",
   "pygments_lexer": "ipython3",
   "version": "3.7.4"
  }
 },
 "nbformat": 4,
 "nbformat_minor": 1
}
